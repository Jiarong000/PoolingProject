{
 "cells": [
  {
   "cell_type": "code",
   "execution_count": 1,
   "metadata": {},
   "outputs": [],
   "source": [
    "import subprocess\n",
    "import warnings\n",
    "import numpy as np\n",
    "import pandas as pd\n",
    "import time\n",
    "import math\n",
    "from scipy.stats import bernoulli as bn\n",
    "from cyvcf2 import VCF, Writer, Variant\n",
    "from typing import *\n",
    "import os"
   ]
  },
  {
   "cell_type": "code",
   "execution_count": 2,
   "metadata": {},
   "outputs": [],
   "source": [
    "def random_delete(rate: float = 0.01, activate: bool = False) -> bool:  #where is arr??\n",
    "    \"\"\"\n",
    "    Delete randomly genotypes in a variant call.\n",
    "    :param arr: variant.genotypes instance\n",
    "    :param rate: proportion of genoyptes to delete over the call\n",
    "    :param activate: activation of the deletion function\n",
    "    :return: array of boolean indicating if the genotypes have to be deleted (1) or not (0).\n",
    "    \"\"\"\n",
    "    if activate:\n",
    "        flag: bool = bn.rvs(p=rate, size=1)    #Generate A Bernoulli discrete random variable : 0 or 1\n",
    "    else:\n",
    "        flag: bool = False\n",
    "\n",
    "    return flag     # [1] or [0]"
   ]
  },
  {
   "cell_type": "code",
   "execution_count": 3,
   "metadata": {},
   "outputs": [],
   "source": [
    "def split_pools(idv_id: List[str], pool_size: int, seed: object = None) -> Tuple[List[str], List[str]]:\n",
    "    \"\"\"\n",
    "    Assign samples to pools and output the remaning samples that could not be assigned (to few samples).\n",
    "    :param idv_id: sample's identiifer in the VCF-file.\n",
    "    :param pool_size: size of group expected (e.g. 16 if 4*4 pooling design)\n",
    "    :return: samples identifiers grouped and remaining samples\n",
    "    \"\"\"\n",
    "    '''\n",
    "    Caculate the number of pools based on sample(idv) number and pool size, randomly assign samples into these pools,\n",
    "    return pools in list form and return the not-assigned samples.\n",
    "    '''\n",
    "\n",
    "    idv_nb = len(idv_id)\n",
    "    nb_pool, left = divmod(idv_nb, pool_size)\n",
    "    print('Number of {}-sized pools to create, number of single samples remaining: '.format(pool_size),\n",
    "          nb_pool, left)\n",
    "    # Create random pools\n",
    "    if seed is not None:\n",
    "        np.random.seed(seed)\n",
    "    pools = np.random.choice(idv_id, size=(nb_pool, pool_size), replace=False)\n",
    "    left = np.isin(idv_id, pools.flatten())\n",
    "    singles = np.extract(~left, idv_id)\n",
    "    pools = pools.tolist()   #Return a copy of the array data as a (nested) Python list.\n",
    "\n",
    "    return pools, singles"
   ]
  },
  {
   "cell_type": "code",
   "execution_count": 4,
   "metadata": {},
   "outputs": [],
   "source": [
    "class SNPsPool(np.ndarray):\n",
    "    \"\"\"\n",
    "    Simulates the different steps of a genotype pooling process.\n",
    "    Builds the pooling design matrix.\n",
    "    Encodes pooled genotypes per group.\n",
    "    Decodes encoded genotypes of the pools back to individual genotypes.\n",
    "    \"\"\"\n",
    "    def __new__(cls,\n",
    "                shape: tuple = (4, 4),\n",
    "                id_len: int = 8,\n",
    "                pools_nb: int = 8,\n",
    "                pools_size: int = 4) -> np.ndarray:\n",
    "        \"\"\"\n",
    "        Define the basic structure for a pool i.e.\n",
    "        a squared matrix to fill with the variables IDs/GT/GL.\n",
    "        :param shape: tuple, shape of the pool\n",
    "        :param id_len: max number of char of the variables IDs\n",
    "        :return: a matrix with dims 'shape', filled with str types\n",
    "        \"\"\"\n",
    "        cls.id_len = id_len\n",
    "        id = 'U' + str(cls.id_len)\n",
    "        cls.pools_nb = pools_nb\n",
    "        cls.pools_size = pools_size\n",
    "        return np.empty_like(super(SNPsPool, cls).__new__(cls, shape),\n",
    "                             dtype=id)\n",
    "\n",
    "    def design_matrix(self, random: bool = False) -> np.ndarray:\n",
    "        \"\"\"\n",
    "        That function is not intended to be called explicitly.\n",
    "        :param random: bool for dispatching idv randomly in the matrix?\n",
    "        :return: design matrix. Numpy array.\n",
    "        \"\"\"\n",
    "        pools_size: int = self.pools_size\n",
    "        design: np.ndarray = np.zeros((self.pools_nb, self.size), dtype=int)\n",
    "        if not random:\n",
    "            for i in range(int(self.pools_nb/self.ndim)):\n",
    "                j = i * pools_size\n",
    "                design[i, j:j+pools_size] = [1]*pools_size\n",
    "            for i in range(int(self.pools_nb/self.ndim), self.pools_nb):\n",
    "                j = i - pools_size\n",
    "                design[i,\n",
    "                       [j+k*pools_size for k in range(pools_size)]] = 1\n",
    "        return design\n",
    "\n",
    "    def set_subset(self, subset: np.ndarray) -> np.ndarray:\n",
    "        \"\"\"\n",
    "        Fills the pooling matrix according to the (default) design\n",
    "        and the input list of samples.\n",
    "        :param subset: 1D-nparray-like object with the variables IDs\n",
    "        :return: pooling matrix with samples' names.\n",
    "        \"\"\"\n",
    "        self.__setattr__('subset', subset)  # from split_pools\n",
    "        sub = self.__getattribute__('subset')\n",
    "        try:\n",
    "            for i in range(self.shape[0]):\n",
    "                self[i, :] = sub[:self.shape[1]]\n",
    "                sub = sub[self.shape[1]:]\n",
    "        except Exception as exc:\n",
    "            if len(self.subset) > self.size:\n",
    "                raise ValueError('The input you gave is too long') from exc\n",
    "            if len(self.subset) < self.size:\n",
    "                raise ValueError('The input you gave is too short') from exc\n",
    "            if type(self.subset) != np.ndarray and type(self.subset) != list:\n",
    "                raise TypeError('The input is not a 1D-array-like') from exc\n",
    "            if len(self.subset) > 0 and type(self.subset[0]) != str:\n",
    "                raise TypeError('The input does not contain str-type elements') from exc\n",
    "\n",
    "        return self\n",
    "\n",
    "    def get_subset(self) -> np.ndarray:\n",
    "        \"\"\"\n",
    "        Flatten the matrix of pooled samples identifiers.\n",
    "        :return: flattened array of samples identifiers or genotypes.\n",
    "        \"\"\"\n",
    "        ids = self.flatten()  # .reshape(1, self.size)\n",
    "        return ids\n",
    "\n",
    "    def pools_list(self) -> List[str]:\n",
    "        \"\"\"\n",
    "        Put samples into matrix structure, just for representation\n",
    "        :return: list of matrix-shaped samples identifiers\n",
    "        \"\"\"\n",
    "        design = self.design_matrix()\n",
    "        if np.where(self == '', False, True).all():\n",
    "            pools_: List[str] = []\n",
    "            for i in range(design.shape[0]):\n",
    "                cache = (design[i, :].reshape(self.shape) == False)  # cache = ~design[i, :].reshape(self.shape)\n",
    "                pool = np.ma.masked_array(self, mask=cache)\n",
    "                pools_.append(pool.compressed())\n",
    "            return pools_\n",
    "            # return just for being able to print the list if wished\n",
    "\n",
    "    def set_line_values(self, samples: list, variant: Variant,\n",
    "                        sig: object = None,\n",
    "                        params: List[float] = [], interp: object = None) -> None:\n",
    "        \"\"\"\n",
    "        Attach sigmoid-transformed alternate allele frequencies to the current variant.\n",
    "        :param samples: samples identifiers from the VCF-file\n",
    "        :param variant: variant identifier from the VCF-file\n",
    "        :param sig: sigmoid object computed from another set of pooled genotype data\n",
    "        :param params: parameters to pass for the sigmoid approximation\n",
    "        :param interp: interpolated sigmoid object for sigmoid approximation\n",
    "        :return: variant object with attributes attached, e.g. twisted alternate allele frequency\n",
    "        \"\"\"\n",
    "        self.__setattr__('variant', variant)  #variant.genotypes\n",
    "        self.__setattr__('samples', samples)\n",
    "#         self.__setattr__('var_pos', str(variant.POS))\n",
    "#         self.__setattr__('aaf', variant.aaf)\n",
    "#         if sig is not None:\n",
    "#             self.__setattr__('aat', sig.call_sigmoid(params, self.aaf))\n",
    "#             self.__setattr__('aat_', sig.call_sigmoid_derivative(interp, self.aaf))\n",
    "#         else:\n",
    "#             self.__setattr__('aat', np.nan)\n",
    "#             self.__setattr__('aat_', np.nan)\n",
    "\n",
    "    def get_call(self) -> np.ndarray:\n",
    "        \"\"\"\n",
    "        Get pooled samples genotypes for a given variant\n",
    "        :return:\n",
    "        \"\"\"\n",
    "        subs = self.get_subset()\n",
    "        idx = np.argwhere(np.isin(self.samples, subs))\n",
    "        self.__setattr__('call', np.asarray(self.variant)[idx])\n",
    "        return self.call\n",
    "\n",
    "    def pool_genotypes(self) -> np.ndarray:\n",
    "        \"\"\"\n",
    "        Computes genotypes of the different pools.\n",
    "        :return: array of {0,1} GLs for RR|RA|AA for each pool\n",
    "        \"\"\"\n",
    "        call: np.ndarray = self.get_call().reshape((1, self.size, 3)) #self.size=16\n",
    "        scores: np.ndarray = np.apply_along_axis(sum, axis=-1, arr=call[:, :, :-1]) #sum of allele1+allel2\n",
    "\n",
    "        if np.isin(call, -1).any():\n",
    "            x = np.ones((1, self.pools_nb, 1))\n",
    "            y = np.asarray([-1, -1, 0])\n",
    "            b = np.broadcast(x, y)\n",
    "            p = np.empty(b.shape)\n",
    "            p.flat = [u * v for (u, v) in b]\n",
    "        else:\n",
    "            pooled_gt = np.dot(self.design_matrix(),\n",
    "                               np.transpose(scores)).reshape((1, self.pools_nb, 1))\n",
    "            pooled_gt = np.broadcast_to(pooled_gt, (1, self.pools_nb, 3))\n",
    "            p = np.apply_along_axis(self.pooler_gt, axis=-1, arr=pooled_gt)\n",
    "\n",
    "        return p  # list of gt for the 8 pools from design matrix\n",
    "\n",
    "    def pooler_gt(self, a: np.ndarray) -> np.ndarray:\n",
    "        \"\"\"\n",
    "        Decodes pooled scores into individual GT.\n",
    "        :param a: score from matrix-vector pooling\n",
    "        :return: pool's true genotype with phase\n",
    "        \"\"\"\n",
    "        if np.all(a == 0):  # RR * RR * RR * RR\n",
    "            gt = [0, 0, 0]\n",
    "        elif np.all(a == self.pools_nb):  # AA * AA * AA * AA\n",
    "            gt = [1, 1, 0]\n",
    "        else:\n",
    "            gt = [1, 0, 0]\n",
    "        return gt\n",
    "\n",
    "    def decode_genotypes_gt(self, samples_gt: np.ndarray) -> np.ndarray:\n",
    "        \"\"\"\n",
    "        Recomputes true genotypes of samples with/without pooling/missing data\n",
    "        :param pooled_samples: Variant.genotypes (unpooled samples' true genotypes with phase)\n",
    "        :return: individual samples genotypes (true genotype with phase)\n",
    "        \"\"\"\n",
    "        pooled: np.ndarray = self.pool_genotypes()  # pooled[:, :, -1]: bool = phase of the genotype\n",
    "        scores: np.ndarray = np.apply_along_axis(sum, axis=-1, arr=pooled[:, :, :-1])\n",
    "        p = np.argwhere(np.isin(self.samples, self.subset))\n",
    "\n",
    "        count_alt: Callable[int, int] = lambda x: 1 if 1 in x else 0\n",
    "        count_ref: Callable[int, int] = lambda x: 1 if 0 in x else 0\n",
    "\n",
    "        alt_row: int = np.sum(np.apply_along_axis(count_alt,\n",
    "                                                  axis=-1,\n",
    "                                                  arr=pooled[:, :4, :-1]))\n",
    "        alt_col: int = np.sum(np.apply_along_axis(count_alt,\n",
    "                                                  axis=-1,\n",
    "                                                  arr=pooled[:, 4:, :-1]))\n",
    "        ref_row: int = np.sum(np.apply_along_axis(count_ref,\n",
    "                                                  axis=-1,\n",
    "                                                  arr=pooled[:, :4, :-1]))\n",
    "        ref_col: int = np.sum(np.apply_along_axis(count_ref,\n",
    "                                                  axis=-1,\n",
    "                                                  arr=pooled[:, 4:, :-1]))\n",
    "\n",
    "        nb_alt: int = alt_row + alt_col\n",
    "        nb_ref: int = ref_row + ref_col\n",
    "\n",
    "        if np.isin(pooled, -1).any():\n",
    "            x = np.ones((1, self.size, 1))\n",
    "            y = np.asarray([-1, -1, 0])\n",
    "            b = np.broadcast(x, y)\n",
    "            decoded_gt = np.empty(b.shape)\n",
    "            decoded_gt.flat = [u * v for (u, v) in b]\n",
    "\n",
    "        else:\n",
    "            encoded = np.dot(scores,\n",
    "                             self.design_matrix()).reshape(1, self.size, 1)\n",
    "            b = np.broadcast_to(encoded, (1, self.size, 3))\n",
    "            if nb_alt == 0:\n",
    "                decoded_gt = np.zeros_like(b)\n",
    "            elif nb_ref == 0:\n",
    "                aa = np.array([1, 1, 0])\n",
    "                decoded_gt = np.tile(aa, self.size).reshape((1, self.size, 3))\n",
    "            elif nb_alt == 2:\n",
    "                decoder: Callable = lambda x: [1, -1, 0] if np.all(x == 2) else [0, 0, 0]\n",
    "                # np.all() because of b.shape\n",
    "                decoded_gt = np.apply_along_axis(decoder, axis=-1, arr=b)\n",
    "            elif nb_ref == 2:  # symmetric case with ref allele in only 2 pools: individual is RR or RA\n",
    "                decoder: Callable = lambda x: [0, -1, 0] if np.all(x == 2) else [1, 1, 0]\n",
    "                decoded_gt = np.apply_along_axis(decoder, axis=-1, arr=b)\n",
    "            else:  # nb_alt > 2 and nb_alt < 8: # nb_alt = 2*n with n > 1\n",
    "                decoded_gt = np.apply_along_axis(self.multidecoder_gt, axis=-1, arr=b)\n",
    "\n",
    "        np.put_along_axis(samples_gt,\n",
    "                          np.broadcast_to(p, (self.size, 3)),\n",
    "                          decoded_gt.squeeze(),\n",
    "                          axis=0)\n",
    "\n",
    "        return samples_gt\n",
    "\n",
    "    def decode_genotypes_gl(self, samples_gl: np.ndarray, dict_gl: dict) -> np.ndarray:\n",
    "        \"\"\"\n",
    "        Recomputes genotypes likelihoods of samples with/without pooling/missing data\n",
    "        :param samples_gl: samples' true genotypes with phase\n",
    "        :param dict_gl: likelihoods values to set when encountering missing genotypes\n",
    "        :return: individual samples genotypes (genotype likelihoods)\n",
    "        \"\"\"\n",
    "        samples_gl = samples_gl.astype(float)  # avoid truncating GL\n",
    "        pooled: np.ndarray = self.pool_genotypes()  # outputs unphased genotypes\n",
    "        scores: np.ndarray = np.apply_along_axis(sum, axis=-1, arr=pooled[:, :, :-1]).flatten()\n",
    "        p = np.argwhere(np.isin(self.samples, self.subset))\n",
    "        count_alt: Callable[int] = lambda x: 1 if 1 in x else 0\n",
    "        count_ref: Callable[int] = lambda x: 1 if 0 in x else 0\n",
    "\n",
    "        alt_row: int = np.sum(np.apply_along_axis(count_alt,\n",
    "                                                  axis=-1,\n",
    "                                                  arr=pooled[:, :4, :-1]))  # :-1 excludes the phase boolean\n",
    "        alt_col: int = np.sum(np.apply_along_axis(count_alt,\n",
    "                                                  axis=-1,\n",
    "                                                  arr=pooled[:, 4:, :-1]))\n",
    "        ref_row: int = np.sum(np.apply_along_axis(count_ref,\n",
    "                                                  axis=-1,\n",
    "                                                  arr=pooled[:, :4, :-1]))\n",
    "        ref_col: int = np.sum(np.apply_along_axis(count_ref,\n",
    "                                                  axis=-1,\n",
    "                                                  arr=pooled[:, 4:, :-1]))\n",
    "\n",
    "        rowcounts, colcounts = self.rowcolcounts(scores)\n",
    "\n",
    "        nb_alt: int = alt_row + alt_col\n",
    "        nb_ref: int = ref_row + ref_col\n",
    "\n",
    "        if np.isin(pooled, -1).any():\n",
    "            x = np.ones((1, self.size, 1))\n",
    "            y = np.asarray([1/3, 1/3, 1/3])\n",
    "            b = np.broadcast(x, y)\n",
    "            decoded_gl = np.empty(b.shape)\n",
    "            decoded_gl.flat = [u * v for (u, v) in b]\n",
    "\n",
    "        else:\n",
    "            encoded = np.dot(scores,\n",
    "                             self.design_matrix()).reshape(1, self.size, 1)\n",
    "            b = np.broadcast_to(encoded, (1, self.size, 3)).astype(float)\n",
    "            if nb_alt == 0:\n",
    "                rr = np.array([1, 0, 0])\n",
    "                decoded_gl = np.tile(rr, self.size).reshape((1, self.size, 3))\n",
    "            elif nb_ref == 0:\n",
    "                aa = np.array([0, 0, 1])\n",
    "                decoded_gl = np.tile(aa, self.size).reshape((1, self.size, 3))\n",
    "            else:  # nb_alt >= 2 and nb_alt < 8: # nb_alt = 2*n with n > 1\n",
    "                unknown = dict_gl[tuple([*rowcounts, *colcounts, 1, 1])]  # 1,1 only cross-section that outputs unknown genotypes\n",
    "                decoded_gl = np.apply_along_axis(self.multidecoder_gl, -1, b, unknown)\n",
    "\n",
    "        np.put_along_axis(samples_gl,\n",
    "                          np.broadcast_to(p, (self.size, 3)),\n",
    "                          decoded_gl.squeeze(),\n",
    "                          axis=0)\n",
    "\n",
    "        return samples_gl\n",
    "\n",
    "    @staticmethod\n",
    "    def rowcolcounts(a: np.ndarray) -> Tuple[Tuple[int, int, int]]:\n",
    "        \"\"\"\n",
    "        Count number of pooled RR|RA|AA genotypes over all rows and columns of a pooled matrix\n",
    "        :param a: score i.e. trinary-encoded true genotypes\n",
    "        :return: counts of genotypes for the rows and columns\n",
    "        \"\"\"\n",
    "        # a should be scores\n",
    "        count_rr: Callable[int] = np.vectorize(lambda x: 1 if x == 0 else 0)\n",
    "        count_aa: Callable[int] = np.vectorize(lambda x: 1 if x == 2 else 0)\n",
    "        count_ra: Callable[int] = np.vectorize(lambda x: 1 if x == 1 else 0)\n",
    "\n",
    "        rowcounts: List[int] = [0, 0, 0]  # counts number of RR, RA, AA rows\n",
    "        colcounts: List[int] = [0, 0, 0]  # counts number of RR, RA, AA columns\n",
    "        rowcounts[0] = np.sum(count_rr(a[:4]))\n",
    "        colcounts[0] = np.sum(count_rr(a[4:]))\n",
    "        rowcounts[1] = np.sum(count_ra(a[:4]))\n",
    "        colcounts[1] = np.sum(count_ra(a[4:]))\n",
    "        rowcounts[2] = np.sum(count_aa(a[:4]))\n",
    "        colcounts[2] = np.sum(count_aa(a[4:]))\n",
    "\n",
    "        return tuple(rowcounts), tuple(colcounts)\n",
    "\n",
    "    @staticmethod\n",
    "    def multidecoder_gt(a: np.ndarray): ##deleted  -> prm.GLtype\n",
    "        \"\"\"\n",
    "        Decodes pooled scores into individual GT.\n",
    "        :param a: score\n",
    "        :return: true genotype with phase\n",
    "        \"\"\"\n",
    "        if np.all(a == 2):  # RA * RA\n",
    "            gt = [-1, -1, 0]\n",
    "        elif np.all(a == 1) or np.all(a == 0):  # RA * RR or RR * RR\n",
    "            gt = [0, 0, 0]\n",
    "        else:\n",
    "            gt = [1, 1, 0]\n",
    "        return gt\n",
    "\n",
    "    @staticmethod\n",
    "    def multidecoder_gl(a: np.ndarray, mis: List[float]): ##deleted  -> prm.GLtype\n",
    "        \"\"\"\n",
    "        Decodes pooled scores into individual GL.\n",
    "        :param a: score\n",
    "        :param mis: GL to set when unknown genotype\n",
    "        :return: genotypes likeihoods\n",
    "        \"\"\"\n",
    "        if np.all(a == 2):  # RA * RA\n",
    "            gl = mis\n",
    "        elif np.all(a == 1) or np.all(a == 0):  # RA * RR or RR * RR\n",
    "            gl = [1.0, 0.0, 0.0]\n",
    "        else:\n",
    "            gl = [0.0, 0.0, 1.0]\n",
    "        return gl\n",
    "\n",
    "    @staticmethod\n",
    "    def normalize(v):\n",
    "        \"\"\"\n",
    "        Normalize (Z-norm) an array. See NumPy documentation.\n",
    "        :param v: array to normalize\n",
    "        :return: normalized array\n",
    "        \"\"\"\n",
    "        norm = np.linalg.norm(v)\n",
    "        if norm == 0:\n",
    "            return v\n",
    "        return v / norm\n",
    "\n",
    "\n",
    "    def __array_finalize__(self, obj: object) -> None:\n",
    "        \"\"\"\n",
    "        Constructor needed for subclassing NumPy arrays.\n",
    "        See online documentation.\n",
    "        :param obj:\n",
    "        :return:\n",
    "        \"\"\"\n",
    "        if obj is None: return\n",
    "        self.info = getattr(obj, 'info', None)"
   ]
  },
  {
   "cell_type": "code",
   "execution_count": 5,
   "metadata": {},
   "outputs": [
    {
     "data": {
      "text/plain": [
       "['id0',\n",
       " 'id1',\n",
       " 'id2',\n",
       " 'id3',\n",
       " 'id4',\n",
       " 'id5',\n",
       " 'id6',\n",
       " 'id7',\n",
       " 'id8',\n",
       " 'id9',\n",
       " 'id10',\n",
       " 'id11',\n",
       " 'id12',\n",
       " 'id13',\n",
       " 'id14',\n",
       " 'id15']"
      ]
     },
     "execution_count": 5,
     "metadata": {},
     "output_type": "execute_result"
    }
   ],
   "source": [
    "sample_id = list(['id' + str(i) for i in range(16)])   #generate id label of samples\n",
    "sample_id"
   ]
  },
  {
   "cell_type": "code",
   "execution_count": 6,
   "metadata": {},
   "outputs": [
    {
     "data": {
      "text/plain": [
       "array([[1, 1, 1],\n",
       "       [0, 0, 1],\n",
       "       [0, 0, 1],\n",
       "       [0, 0, 1],\n",
       "       [0, 0, 1],\n",
       "       [0, 0, 1],\n",
       "       [0, 0, 1],\n",
       "       [0, 0, 1],\n",
       "       [0, 0, 1],\n",
       "       [0, 0, 1],\n",
       "       [0, 0, 1],\n",
       "       [0, 0, 1],\n",
       "       [0, 0, 1],\n",
       "       [0, 0, 1],\n",
       "       [0, 0, 1],\n",
       "       [0, 0, 1]])"
      ]
     },
     "execution_count": 6,
     "metadata": {},
     "output_type": "execute_result"
    }
   ],
   "source": [
    "# sample_gt = np.array([[[1, 1, 1], [0, 0, 1], [0, 0, 1], [0, 0, 1]],\n",
    "#                [[0, 0, 1], [0, 0, 1], [0, 0, 1], [0, 0, 1]],\n",
    "#                [[0, 0, 1], [0, 0, 1], [0, 0, 1], [0, 0, 1]],\n",
    "#                [[0, 0, 1], [0, 0, 1], [0, 0, 1], [0, 0, 1]]])\n",
    "sample_gt = np.array([[1, 1, 1], [0, 0, 1], [0, 0, 1], [0, 0, 1],\n",
    "               [0, 0, 1], [0, 0, 1], [0, 0, 1], [0, 0, 1],\n",
    "               [0, 0, 1], [0, 0, 1], [0, 0, 1], [0, 0, 1],\n",
    "               [0, 0, 1], [0, 0, 1], [0, 0, 1], [0, 0, 1]])\n",
    "sample_gt"
   ]
  },
  {
   "cell_type": "code",
   "execution_count": 7,
   "metadata": {},
   "outputs": [
    {
     "data": {
      "text/plain": [
       "SNPsPool([['', '', '', ''],\n",
       "          ['', '', '', ''],\n",
       "          ['', '', '', ''],\n",
       "          ['', '', '', '']], dtype='<U8')"
      ]
     },
     "execution_count": 7,
     "metadata": {},
     "output_type": "execute_result"
    }
   ],
   "source": [
    "mypooling = SNPsPool()\n",
    "mypooling\n",
    "# build am empty matrix for sample id"
   ]
  },
  {
   "cell_type": "code",
   "execution_count": 8,
   "metadata": {},
   "outputs": [
    {
     "data": {
      "text/plain": [
       "SNPsPool([['id0', 'id1', 'id2', 'id3'],\n",
       "          ['id4', 'id5', 'id6', 'id7'],\n",
       "          ['id8', 'id9', 'id10', 'id11'],\n",
       "          ['id12', 'id13', 'id14', 'id15']], dtype='<U8')"
      ]
     },
     "execution_count": 8,
     "metadata": {},
     "output_type": "execute_result"
    }
   ],
   "source": [
    "mypooling.set_subset(sample_id)"
   ]
  },
  {
   "cell_type": "code",
   "execution_count": 9,
   "metadata": {},
   "outputs": [
    {
     "data": {
      "text/plain": [
       "[SNPsPool(['id0', 'id1', 'id2', 'id3'], dtype='<U8'),\n",
       " SNPsPool(['id4', 'id5', 'id6', 'id7'], dtype='<U8'),\n",
       " SNPsPool(['id8', 'id9', 'id10', 'id11'], dtype='<U8'),\n",
       " SNPsPool(['id12', 'id13', 'id14', 'id15'], dtype='<U8'),\n",
       " SNPsPool(['id0', 'id4', 'id8', 'id12'], dtype='<U8'),\n",
       " SNPsPool(['id1', 'id5', 'id9', 'id13'], dtype='<U8'),\n",
       " SNPsPool(['id2', 'id6', 'id10', 'id14'], dtype='<U8'),\n",
       " SNPsPool(['id3', 'id7', 'id11', 'id15'], dtype='<U8')]"
      ]
     },
     "execution_count": 9,
     "metadata": {},
     "output_type": "execute_result"
    }
   ],
   "source": [
    "mypooling.pools_list() #each pools contains which subject"
   ]
  },
  {
   "cell_type": "code",
   "execution_count": 10,
   "metadata": {},
   "outputs": [
    {
     "data": {
      "text/plain": [
       "SNPsPool(['id0', 'id1', 'id2', 'id3', 'id4', 'id5', 'id6', 'id7', 'id8',\n",
       "          'id9', 'id10', 'id11', 'id12', 'id13', 'id14', 'id15'],\n",
       "         dtype='<U8')"
      ]
     },
     "execution_count": 10,
     "metadata": {},
     "output_type": "execute_result"
    }
   ],
   "source": [
    "mypooling.get_subset() #flatten self._new_"
   ]
  },
  {
   "cell_type": "code",
   "execution_count": 11,
   "metadata": {},
   "outputs": [
    {
     "data": {
      "text/plain": [
       "array([[1, 1, 1, 1, 0, 0, 0, 0, 0, 0, 0, 0, 0, 0, 0, 0],\n",
       "       [0, 0, 0, 0, 1, 1, 1, 1, 0, 0, 0, 0, 0, 0, 0, 0],\n",
       "       [0, 0, 0, 0, 0, 0, 0, 0, 1, 1, 1, 1, 0, 0, 0, 0],\n",
       "       [0, 0, 0, 0, 0, 0, 0, 0, 0, 0, 0, 0, 1, 1, 1, 1],\n",
       "       [1, 0, 0, 0, 1, 0, 0, 0, 1, 0, 0, 0, 1, 0, 0, 0],\n",
       "       [0, 1, 0, 0, 0, 1, 0, 0, 0, 1, 0, 0, 0, 1, 0, 0],\n",
       "       [0, 0, 1, 0, 0, 0, 1, 0, 0, 0, 1, 0, 0, 0, 1, 0],\n",
       "       [0, 0, 0, 1, 0, 0, 0, 1, 0, 0, 0, 1, 0, 0, 0, 1]])"
      ]
     },
     "execution_count": 11,
     "metadata": {},
     "output_type": "execute_result"
    }
   ],
   "source": [
    "mypooling.design_matrix()    \n",
    "\n",
    "# Matrix design\n",
    "# There are 8 pools, \n",
    "# pool 1 is the first row, it contains item 1 2 3 4\n",
    "# pool 5 is the fifth row, it contains item 1 5 9 13"
   ]
  },
  {
   "cell_type": "code",
   "execution_count": 12,
   "metadata": {},
   "outputs": [],
   "source": [
    "mypooling.set_line_values(sample_id,sample_gt) #set value: id and gt"
   ]
  },
  {
   "cell_type": "code",
   "execution_count": 13,
   "metadata": {},
   "outputs": [
    {
     "data": {
      "text/plain": [
       "array([[[1, 1, 1]],\n",
       "\n",
       "       [[0, 0, 1]],\n",
       "\n",
       "       [[0, 0, 1]],\n",
       "\n",
       "       [[0, 0, 1]],\n",
       "\n",
       "       [[0, 0, 1]],\n",
       "\n",
       "       [[0, 0, 1]],\n",
       "\n",
       "       [[0, 0, 1]],\n",
       "\n",
       "       [[0, 0, 1]],\n",
       "\n",
       "       [[0, 0, 1]],\n",
       "\n",
       "       [[0, 0, 1]],\n",
       "\n",
       "       [[0, 0, 1]],\n",
       "\n",
       "       [[0, 0, 1]],\n",
       "\n",
       "       [[0, 0, 1]],\n",
       "\n",
       "       [[0, 0, 1]],\n",
       "\n",
       "       [[0, 0, 1]],\n",
       "\n",
       "       [[0, 0, 1]]])"
      ]
     },
     "execution_count": 13,
     "metadata": {},
     "output_type": "execute_result"
    }
   ],
   "source": [
    "mypooling.get_call() #the original individual gt"
   ]
  },
  {
   "cell_type": "code",
   "execution_count": 14,
   "metadata": {},
   "outputs": [
    {
     "data": {
      "text/plain": [
       "array([[[1, 0, 0],\n",
       "        [0, 0, 0],\n",
       "        [0, 0, 0],\n",
       "        [0, 0, 0],\n",
       "        [1, 0, 0],\n",
       "        [0, 0, 0],\n",
       "        [0, 0, 0],\n",
       "        [0, 0, 0]]])"
      ]
     },
     "execution_count": 14,
     "metadata": {},
     "output_type": "execute_result"
    }
   ],
   "source": [
    "mypooling.pool_genotypes() #the pool's gt"
   ]
  },
  {
   "cell_type": "code",
   "execution_count": 15,
   "metadata": {},
   "outputs": [
    {
     "data": {
      "text/plain": [
       "[1, 0, 0]"
      ]
     },
     "execution_count": 15,
     "metadata": {},
     "output_type": "execute_result"
    }
   ],
   "source": [
    "mypooling.pooler_gt(np.ndarray([8,8,8])) \n",
    "# used by mypooling.pool_genotypes()\n",
    "# rules to summerize individule info to pool info"
   ]
  },
  {
   "cell_type": "code",
   "execution_count": 16,
   "metadata": {},
   "outputs": [
    {
     "data": {
      "text/plain": [
       "array([[ 1, -1,  0],\n",
       "       [ 0,  0,  0],\n",
       "       [ 0,  0,  0],\n",
       "       [ 0,  0,  0],\n",
       "       [ 0,  0,  0],\n",
       "       [ 0,  0,  0],\n",
       "       [ 0,  0,  0],\n",
       "       [ 0,  0,  0],\n",
       "       [ 0,  0,  0],\n",
       "       [ 0,  0,  0],\n",
       "       [ 0,  0,  0],\n",
       "       [ 0,  0,  0],\n",
       "       [ 0,  0,  0],\n",
       "       [ 0,  0,  0],\n",
       "       [ 0,  0,  0],\n",
       "       [ 0,  0,  0]])"
      ]
     },
     "execution_count": 16,
     "metadata": {},
     "output_type": "execute_result"
    }
   ],
   "source": [
    "mypooling.decode_genotypes_gt(sample_gt) #the retrieved individual gt"
   ]
  },
  {
   "cell_type": "code",
   "execution_count": 17,
   "metadata": {},
   "outputs": [
    {
     "data": {
      "text/plain": [
       "[1, 1, 0]"
      ]
     },
     "execution_count": 17,
     "metadata": {},
     "output_type": "execute_result"
    }
   ],
   "source": [
    "mypooling.multidecoder_gt(np.ndarray([8,8,8])) #rule to retrive from pool info ro individual info"
   ]
  },
  {
   "cell_type": "code",
   "execution_count": null,
   "metadata": {},
   "outputs": [],
   "source": []
  }
 ],
 "metadata": {
  "kernelspec": {
   "display_name": "Python 3",
   "language": "python",
   "name": "python3"
  },
  "language_info": {
   "codemirror_mode": {
    "name": "ipython",
    "version": 3
   },
   "file_extension": ".py",
   "mimetype": "text/x-python",
   "name": "python",
   "nbconvert_exporter": "python",
   "pygments_lexer": "ipython3",
   "version": "3.7.4"
  }
 },
 "nbformat": 4,
 "nbformat_minor": 2
}
