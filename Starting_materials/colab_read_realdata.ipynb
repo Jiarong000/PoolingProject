{
  "nbformat": 4,
  "nbformat_minor": 0,
  "metadata": {
    "kernelspec": {
      "display_name": "Python 3",
      "language": "python",
      "name": "python3"
    },
    "language_info": {
      "codemirror_mode": {
        "name": "ipython",
        "version": 3
      },
      "file_extension": ".py",
      "mimetype": "text/x-python",
      "name": "python",
      "nbconvert_exporter": "python",
      "pygments_lexer": "ipython3",
      "version": "3.6.9"
    },
    "colab": {
      "name": "colab_read_realdata.ipynb",
      "provenance": [],
      "collapsed_sections": []
    }
  },
  "cells": [
    {
      "cell_type": "code",
      "metadata": {
        "id": "RI8EqdKKoC1w",
        "colab_type": "code",
        "colab": {}
      },
      "source": [
        "# !pip install numpy Cython pandas scipy typing cyvcf2"
      ],
      "execution_count": 0,
      "outputs": []
    },
    {
      "cell_type": "code",
      "metadata": {
        "id": "rkyIEmGboOul",
        "colab_type": "code",
        "colab": {}
      },
      "source": [
        "# !git clone https://github.com/Jiarong000/data.git"
      ],
      "execution_count": 0,
      "outputs": []
    },
    {
      "cell_type": "code",
      "metadata": {
        "id": "9r9NRSeGoZDm",
        "colab_type": "code",
        "outputId": "934d5bb5-49d4-4661-adb1-6eaba51497e6",
        "colab": {
          "base_uri": "https://localhost:8080/",
          "height": 71
        }
      },
      "source": [
        "import os\n",
        "print(os.listdir())\n",
        "print(os.listdir('data'))\n",
        "print(os.getcwd())"
      ],
      "execution_count": 3,
      "outputs": [
        {
          "output_type": "stream",
          "text": [
            "['.config', 'data', 'sample_data']\n",
            "['.git', 'README.md', 'ALL.chr20.snps.gt.chunk1000.vcf.gz']\n",
            "/content\n"
          ],
          "name": "stdout"
        }
      ]
    },
    {
      "cell_type": "code",
      "metadata": {
        "id": "okWQeUzaeft_",
        "colab_type": "code",
        "colab": {}
      },
      "source": [
        "import subprocess\n",
        "import warnings\n",
        "import numpy as np\n",
        "import pandas as pd\n",
        "import time\n",
        "import math\n",
        "from scipy.stats import bernoulli as bn\n",
        "from cyvcf2 import VCF, Writer, Variant\n",
        "from typing import *\n",
        "import os\n",
        "import collections\n",
        "from random import seed\n",
        "from random import randint\n",
        "import matplotlib.pyplot as plt\n",
        "import statistics\n",
        "%matplotlib inline"
      ],
      "execution_count": 0,
      "outputs": []
    },
    {
      "cell_type": "code",
      "metadata": {
        "id": "hGTc8DwSefuC",
        "colab_type": "code",
        "colab": {}
      },
      "source": [
        "class SNPsPool(np.ndarray):\n",
        "    \"\"\"\n",
        "    Simulates the different steps of a genotype pooling process.\n",
        "    Builds the pooling design matrix.\n",
        "    Encodes pooled genotypes per group.\n",
        "    Decodes encoded genotypes of the pools back to individual genotypes.\n",
        "    \"\"\"\n",
        "    def __new__(cls,\n",
        "                shape: tuple = (4, 4),  #default, in case not assigned\n",
        "                id_len: int = 8,\n",
        "                pools_nb: int = 8,\n",
        "                pools_size: int = 4) -> np.ndarray:\n",
        "        \"\"\"\n",
        "        Define the basic structure for a pool i.e.\n",
        "        a squared matrix to fill with the variables IDs/GT/GL.\n",
        "        :param shape: tuple, shape of the pool\n",
        "        :param id_len: max number of char of the variables IDs\n",
        "        :return: a matrix with dims 'shape', filled with str types\n",
        "        \"\"\"\n",
        "        cls.id_len = id_len\n",
        "        id = 'U' + str(cls.id_len)\n",
        "        cls.pools_nb = pools_nb\n",
        "        cls.pools_size = pools_size\n",
        "        return np.empty_like(super(SNPsPool, cls).__new__(cls, shape),\n",
        "                             dtype=id)\n",
        "\n",
        "    def design_matrix(self, random: bool = False) -> np.ndarray:\n",
        "        \"\"\"\n",
        "        That function is not intended to be called explicitly.\n",
        "        :param random: bool for dispatching idv randomly in the matrix?\n",
        "        :return: design matrix. Numpy array.\n",
        "        \"\"\"\n",
        "        pools_size: int = self.pools_size\n",
        "        design: np.ndarray = np.zeros((self.pools_nb, self.size), dtype=int)\n",
        "        if not random:\n",
        "            for i in range(int(self.pools_nb/self.ndim)):\n",
        "                j = i * pools_size\n",
        "                design[i, j:j+pools_size] = [1]*pools_size\n",
        "            for i in range(int(self.pools_nb/self.ndim), self.pools_nb):\n",
        "                j = i - pools_size\n",
        "                design[i,\n",
        "                       [j+k*pools_size for k in range(pools_size)]] = 1\n",
        "        return design\n",
        "\n",
        "    def set_subset(self, subset: np.ndarray) -> np.ndarray:\n",
        "        \"\"\"\n",
        "        Fills the pooling matrix according to the (default) design\n",
        "        and the input list of samples.\n",
        "        :param subset: 1D-nparray-like object with the variables IDs\n",
        "        :return: pooling matrix with samples' names.\n",
        "        \"\"\"\n",
        "        self.__setattr__('subset', subset)  # from split_pools\n",
        "        sub = self.__getattribute__('subset')\n",
        "        try:\n",
        "            for i in range(self.shape[0]):\n",
        "                self[i, :] = sub[:self.shape[1]]\n",
        "                sub = sub[self.shape[1]:]\n",
        "        except Exception as exc:\n",
        "            if len(self.subset) > self.size:\n",
        "                raise ValueError('The input you gave is too long') from exc\n",
        "            if len(self.subset) < self.size:\n",
        "                raise ValueError('The input you gave is too short') from exc\n",
        "            if type(self.subset) != np.ndarray and type(self.subset) != list:\n",
        "                raise TypeError('The input is not a 1D-array-like') from exc\n",
        "            if len(self.subset) > 0 and type(self.subset[0]) != str:\n",
        "                raise TypeError('The input does not contain str-type elements') from exc\n",
        "\n",
        "        return self\n",
        "\n",
        "    def get_subset(self) -> np.ndarray:\n",
        "        \"\"\"\n",
        "        Flatten the matrix of pooled samples identifiers.\n",
        "        :return: flattened array of samples identifiers or genotypes.\n",
        "        \"\"\"\n",
        "        ids = self.flatten()  # .reshape(1, self.size)\n",
        "        return ids\n",
        "\n",
        "    def pools_list(self) -> List[str]:\n",
        "        \"\"\"\n",
        "        Put samples into matrix structure, just for representation\n",
        "        :return: list of matrix-shaped samples identifiers\n",
        "        \"\"\"\n",
        "        design = self.design_matrix()\n",
        "        if np.where(self == '', False, True).all():\n",
        "            pools_: List[str] = []\n",
        "            for i in range(design.shape[0]):\n",
        "                cache = (design[i, :].reshape(self.shape) == False)  # cache = ~design[i, :].reshape(self.shape)\n",
        "                pool = np.ma.masked_array(self, mask=cache)\n",
        "                pools_.append(pool.compressed())\n",
        "            return pools_\n",
        "            # return just for being able to print the list if wished\n",
        "\n",
        "    def set_line_values(self, samples: list, variant: Variant,\n",
        "                        sig: object = None,\n",
        "                        params: List[float] = [], interp: object = None) -> None:\n",
        "        \"\"\"\n",
        "        Attach sigmoid-transformed alternate allele frequencies to the current variant.\n",
        "        :param samples: samples identifiers from the VCF-file\n",
        "        :param variant: variant identifier from the VCF-file\n",
        "        :param sig: sigmoid object computed from another set of pooled genotype data\n",
        "        :param params: parameters to pass for the sigmoid approximation\n",
        "        :param interp: interpolated sigmoid object for sigmoid approximation\n",
        "        :return: variant object with attributes attached, e.g. twisted alternate allele frequency\n",
        "        \"\"\"\n",
        "        self.__setattr__('variant', variant)  #variant.genotypes\n",
        "        self.__setattr__('samples', samples)\n",
        "\n",
        "\n",
        "    def get_call(self) -> np.ndarray:\n",
        "        \"\"\"\n",
        "        Get pooled samples genotypes for a given variant\n",
        "        :return:\n",
        "        \"\"\"\n",
        "        subs = self.get_subset()\n",
        "        idx = np.argwhere(np.isin(self.samples, subs))\n",
        "        self.__setattr__('call', np.asarray(self.variant)[idx])\n",
        "        return self.call\n",
        "\n",
        "    def pool_genotypes(self) -> np.ndarray:\n",
        "        \"\"\"\n",
        "        Computes genotypes of the different pools.\n",
        "        :return: array of {0,1} GLs for RR|RA|AA for each pool\n",
        "        \"\"\"\n",
        "        call: np.ndarray = self.get_call().reshape((1, self.size, 3)) \n",
        "        scores: np.ndarray = np.apply_along_axis(sum, axis=-1, arr=call[:, :, :-1])\n",
        "            \n",
        "        \n",
        "\n",
        "        if np.isin(call, -1).any():\n",
        "            x = np.ones((1, self.pools_nb, 1))\n",
        "            y = np.asarray([-1, -1, 0])\n",
        "            b = np.broadcast(x, y)\n",
        "            p = np.empty(b.shape)\n",
        "            p.flat = [u * v for (u, v) in b]\n",
        "        else:\n",
        "            pooled_gt = np.dot(self.design_matrix(),\n",
        "                               np.transpose(scores)).reshape((1, self.pools_nb, 1))\n",
        "            \n",
        "            pooled_gt = np.broadcast_to(pooled_gt, (1, self.pools_nb, 3))\n",
        "            p = np.apply_along_axis(self.pooler_gt, axis=-1, arr=pooled_gt)\n",
        "\n",
        "        return p  # list of gt for the n pools from design matrix\n",
        "\n",
        "    def pooler_gt(self, a: np.ndarray) -> np.ndarray:\n",
        "        \"\"\"\n",
        "        Decodes pooled scores into individual GT.\n",
        "        :param a: score from matrix-vector pooling\n",
        "        :return: pool's true genotype with phase\n",
        "        \"\"\"\n",
        "        if np.all(a == 0):  # RR * RR * RR * RR\n",
        "            gt = [0, 0, 0]\n",
        "        elif np.all(a == self.pools_nb):  # AA * AA * AA * AA\n",
        "            gt = [1, 1, 0]\n",
        "        else:\n",
        "            gt = [1, 0, 0]\n",
        "        return gt\n",
        "\n",
        "    def decode_genotypes_gt(self, samples_gt: np.ndarray) -> np.ndarray:\n",
        "        \"\"\"\n",
        "        Recomputes true genotypes of samples with/without pooling/missing data\n",
        "        :param pooled_samples: Variant.genotypes (unpooled samples' true genotypes with phase)\n",
        "        :return: individual samples genotypes (true genotype with phase)\n",
        "        \"\"\"\n",
        "        pooled: np.ndarray = self.pool_genotypes()  # pooled[:, :, -1]: bool = phase of the genotype\n",
        "        scores: np.ndarray = np.apply_along_axis(sum, axis=-1, arr=pooled[:, :, :-1])\n",
        "        p = np.argwhere(np.isin(self.samples, self.subset))\n",
        "        \n",
        "        count_alt: Callable[int, int] = lambda x: 1 if 1 in x else 0\n",
        "        count_ref: Callable[int, int] = lambda x: 1 if 0 in x else 0\n",
        "\n",
        "        alt_row: int = np.sum(np.apply_along_axis(count_alt,\n",
        "                                                  axis=-1,\n",
        "                                                  arr=pooled[:, :self.pools_size, :-1]))\n",
        "        alt_col: int = np.sum(np.apply_along_axis(count_alt,\n",
        "                                                  axis=-1,\n",
        "                                                  arr=pooled[:, self.pools_size:, :-1]))\n",
        "        ref_row: int = np.sum(np.apply_along_axis(count_ref,\n",
        "                                                  axis=-1,\n",
        "                                                  arr=pooled[:, :self.pools_size, :-1]))\n",
        "        ref_col: int = np.sum(np.apply_along_axis(count_ref,\n",
        "                                                  axis=-1,\n",
        "                                                  arr=pooled[:, self.pools_size:, :-1]))\n",
        "\n",
        "        nb_alt: int = alt_row + alt_col\n",
        "        nb_ref: int = ref_row + ref_col\n",
        "        \n",
        "        if np.isin(pooled, -1).any():\n",
        "            x = np.ones((1, self.size, 1))\n",
        "            y = np.asarray([-1, -1, 0])\n",
        "            b = np.broadcast(x, y)\n",
        "            decoded_gt = np.empty(b.shape)\n",
        "            decoded_gt.flat = [u * v for (u, v) in b]\n",
        "\n",
        "        else:\n",
        "            encoded = np.dot(scores,\n",
        "                             self.design_matrix()).reshape(1, self.size, 1)\n",
        "            b = np.broadcast_to(encoded, (1, self.size, 3))\n",
        "            if nb_alt == 0:\n",
        "                decoded_gt = np.zeros_like(b)\n",
        "            elif nb_ref == 0:\n",
        "                aa = np.array([1, 1, 0])\n",
        "                decoded_gt = np.tile(aa, self.size).reshape((1, self.size, 3))\n",
        "            elif nb_alt == 2:\n",
        "                decoder: Callable = lambda x: [1, -1, 0] if np.all(x == 2) else [0, 0, 0]\n",
        "                # np.all() because of b.shape\n",
        "                decoded_gt = np.apply_along_axis(decoder, axis=-1, arr=b)\n",
        "            elif nb_ref == 2:  # symmetric case with ref allele in only 2 pools: individual is RR or RA\n",
        "                decoder: Callable = lambda x: [0, -1, 0] if np.all(x == 2) else [1, 1, 0]\n",
        "                decoded_gt = np.apply_along_axis(decoder, axis=-1, arr=b)\n",
        "            else:  # nb_alt > 2 and nb_alt < 8: # nb_alt = 2*n with n > 1\n",
        "                decoded_gt = np.apply_along_axis(self.multidecoder_gt, axis=-1, arr=b)\n",
        "\n",
        "        np.put_along_axis(samples_gt,\n",
        "                          np.broadcast_to(p, (self.size, 3)),\n",
        "                          decoded_gt.squeeze(),\n",
        "                          axis=0)\n",
        "\n",
        "        return samples_gt\n",
        "\n",
        "\n",
        "    @staticmethod\n",
        "    def multidecoder_gt(a: np.ndarray): ##deleted  -> prm.GLtype\n",
        "        \"\"\"\n",
        "        Decodes pooled scores into individual GT.\n",
        "        :param a: score\n",
        "        :return: true genotype with phase\n",
        "        \"\"\"\n",
        "        if np.all(a == 2):  # RA * RA\n",
        "            gt = [-1, -1, 0]\n",
        "        elif np.all(a == 1) or np.all(a == 0):  # RA * RR or RR * RR\n",
        "            gt = [0, 0, 0]\n",
        "        else:\n",
        "            gt = [1, 1, 0]\n",
        "        return gt\n",
        "\n",
        "    def __array_finalize__(self, obj: object) -> None:\n",
        "        \"\"\"\n",
        "        Constructor needed for subclassing NumPy arrays.\n",
        "        See online documentation.\n",
        "        :param obj:\n",
        "        :return:\n",
        "        \"\"\"\n",
        "        if obj is None: return\n",
        "        self.info = getattr(obj, 'info', None)"
      ],
      "execution_count": 0,
      "outputs": []
    },
    {
      "cell_type": "code",
      "metadata": {
        "id": "LMj_LaXWefuE",
        "colab_type": "code",
        "colab": {}
      },
      "source": [
        "def generate_id(sample_gt):\n",
        "    sample_id=[]\n",
        "    for gt in sample_gt:\n",
        "        is_AA=gt==np.array([1, 1, 1])\n",
        "        is_RR=gt==np.array([0, 0, 1])\n",
        "        is_AR=gt==np.array([1, 0, 1])\n",
        "        is_RA=gt==np.array([0, 1, 1])\n",
        "        if is_AA.all():\n",
        "            sample_id.append('aa')\n",
        "        elif is_RR.all():\n",
        "            sample_id.append('rr')\n",
        "        elif is_AR.all():\n",
        "            sample_id.append('ar')\n",
        "        elif is_RA.all():\n",
        "            sample_id.append('ar')\n",
        "        else:\n",
        "            sample_id.append('mis')\n",
        "    return sample_id"
      ],
      "execution_count": 0,
      "outputs": []
    },
    {
      "cell_type": "code",
      "metadata": {
        "id": "xwiasq8GefuG",
        "colab_type": "code",
        "colab": {}
      },
      "source": [
        "def access_pool(sample_gt,decoded_gt):\n",
        "    decoded_gt_nophase=np.delete(decoded_gt, -1, 1)\n",
        "    sample_gt_nophase=np.delete(sample_gt, -1, 1)\n",
        "    access_pool=[]\n",
        "    for idx in range(decoded_gt_nophase.shape[0]):\n",
        "        if np.isin(decoded_gt_nophase[idx],-1).any():\n",
        "            access_pool.append('mis')\n",
        "        elif sum(decoded_gt_nophase[idx])==sum(sample_gt_nophase[idx]):\n",
        "            access_pool.append('correct')\n",
        "        else:\n",
        "            access_pool.append('wrong')\n",
        "    return access_pool\n",
        "#return like 'mis'"
      ],
      "execution_count": 0,
      "outputs": []
    },
    {
      "cell_type": "markdown",
      "metadata": {
        "id": "zXcHWsA7efuH",
        "colab_type": "text"
      },
      "source": [
        "### Real Data Infomation"
      ]
    },
    {
      "cell_type": "code",
      "metadata": {
        "id": "B-GX_V5lefuI",
        "colab_type": "code",
        "outputId": "9c3fb218-b6a1-478b-9b6f-cecec4c85e51",
        "colab": {
          "base_uri": "https://localhost:8080/",
          "height": 35
        }
      },
      "source": [
        "# file_path=os.path.abspath(os.path.abspath('ALL.chr20.snps.gt.chunk1000.vcf.gz'))\n",
        "file_path=os.path.abspath('data/ALL.chr20.snps.gt.chunk1000.vcf.gz')\n",
        "file_path"
      ],
      "execution_count": 8,
      "outputs": [
        {
          "output_type": "execute_result",
          "data": {
            "text/plain": [
              "'/content/data/ALL.chr20.snps.gt.chunk1000.vcf.gz'"
            ]
          },
          "metadata": {
            "tags": []
          },
          "execution_count": 8
        }
      ]
    },
    {
      "cell_type": "code",
      "metadata": {
        "id": "DM2l6UThefuJ",
        "colab_type": "code",
        "colab": {}
      },
      "source": [
        "sample_stat=[]\n",
        "for variant in VCF(file_path): #each read is a position, with total 1000 pos, of around 2500 individuals\n",
        "    genotype_raw = variant.genotypes\n",
        "    sample_raw=generate_id(genotype_raw)\n",
        "    sample_raw_counter=collections.Counter(sample_raw)\n",
        "    sample_stat.append(sample_raw_counter)"
      ],
      "execution_count": 0,
      "outputs": []
    },
    {
      "cell_type": "code",
      "metadata": {
        "id": "D7xlpFzrefuL",
        "colab_type": "code",
        "outputId": "49b8cc11-bec2-44a3-bc16-5797f48128d0",
        "colab": {
          "base_uri": "https://localhost:8080/",
          "height": 353
        }
      },
      "source": [
        "'''\n",
        "plot the hist of raw data by gentype freq\n",
        "'''\n",
        "rr=[]\n",
        "aa=[]\n",
        "ar=[]\n",
        "for k in range(len(sample_stat)):\n",
        "    t=sample_stat[k]['rr']+sample_stat[k]['ar']+sample_stat[k]['aa']\n",
        "    rr.append(sample_stat[k]['rr']/t)\n",
        "    aa.append(sample_stat[k]['aa']/t)\n",
        "    ar.append(sample_stat[k]['ar']/t)\n",
        "\n",
        "fig, (ax1,ax2,ax3) =plt.subplots(3, 1, sharex=True, sharey=True, figsize=(12,5))\n",
        "\n",
        "ax1.hist(rr,bins=100,label=\"rr\")\n",
        "ax1.legend()\n",
        "\n",
        "ax2.hist(aa,bins=100,label=\"aa\")\n",
        "ax2.legend()\n",
        "\n",
        "ax3.hist(ar,bins=100,label=\"ar\")\n",
        "ax3.legend()\n",
        "\n",
        "fig.text(0.5, 0.04, 'Freq of aa/rr/ar of a Position', ha='center')\n",
        "fig.text(0.04, 0.5, 'Number of Position', va='center', rotation='vertical')"
      ],
      "execution_count": 10,
      "outputs": [
        {
          "output_type": "execute_result",
          "data": {
            "text/plain": [
              "Text(0.04, 0.5, 'Number of Position')"
            ]
          },
          "metadata": {
            "tags": []
          },
          "execution_count": 10
        },
        {
          "output_type": "display_data",
          "data": {
            "image/png": "[encoded data removed]",
            "text/plain": [
              "<Figure size 864x360 with 3 Axes>"
            ]
          },
          "metadata": {
            "tags": []
          }
        }
      ]
    },
    {
      "cell_type": "code",
      "metadata": {
        "id": "a-I-OujrefuN",
        "colab_type": "code",
        "outputId": "5ff9a167-1cbd-4652-869a-eeb5b01697cd",
        "colab": {
          "base_uri": "https://localhost:8080/",
          "height": 353
        }
      },
      "source": [
        "'''\n",
        "plot the hist of raw data by allele freq\n",
        "'''\n",
        "r=[]\n",
        "a=[]\n",
        "c=[]\n",
        "for k in range(len(sample_stat)):\n",
        "    t=sample_stat[k]['rr']+sample_stat[k]['ar']+sample_stat[k]['aa']\n",
        "        \n",
        "    rf=sample_stat[k]['rr']+sample_stat[k]['ar']/2\n",
        "    rf=rf/t\n",
        "\n",
        "    af=sample_stat[k]['aa']+sample_stat[k]['ar']/2\n",
        "    af=af/t\n",
        "            \n",
        "    r.append(rf)\n",
        "    a.append(af)\n",
        "    c.append(k)\n",
        "\n",
        "fig, (ax1,ax2) =plt.subplots(2, 1, sharex=True, sharey=True, figsize=(12,5))\n",
        "\n",
        "ax1.hist(r,bins=100,label=\"Freq of r\")\n",
        "ax1.legend()\n",
        "\n",
        "ax2.hist(a,bins=100,label=\"Freq of a\")\n",
        "ax2.legend()\n",
        "\n",
        "\n",
        "fig.text(0.5, 0.04, 'Freq of a/r of a Position', ha='center')\n",
        "fig.text(0.04, 0.5, 'Number of Position', va='center', rotation='vertical')"
      ],
      "execution_count": 11,
      "outputs": [
        {
          "output_type": "execute_result",
          "data": {
            "text/plain": [
              "Text(0.04, 0.5, 'Number of Position')"
            ]
          },
          "metadata": {
            "tags": []
          },
          "execution_count": 11
        },
        {
          "output_type": "display_data",
          "data": {
            "image/png": "[encoded data removed]",
            "text/plain": [
              "<Figure size 864x360 with 2 Axes>"
            ]
          },
          "metadata": {
            "tags": []
          }
        }
      ]
    },
    {
      "cell_type": "markdown",
      "metadata": {
        "id": "VGOJ2NHMefuP",
        "colab_type": "text"
      },
      "source": [
        "### def Functions"
      ]
    },
    {
      "cell_type": "code",
      "metadata": {
        "id": "_e5yyVFYefuQ",
        "colab_type": "code",
        "colab": {}
      },
      "source": [
        "def test_real(n,genotype_raw):\n",
        "# input: the pool size n, a line of vcf genotype_raw\n",
        "# run the pooling & decoding strategy, access it\n",
        "# return: the number of xxxxx\n",
        "    pools_size=n\n",
        "    pooling_size=pools_size*pools_size\n",
        "    pool_shape=(n,n)\n",
        "    id_len=8\n",
        "    pools_nb=n*2\n",
        "\n",
        "    genotype=np.asarray(genotype_raw)\n",
        "    genotype=np.random.permutation(genotype)\n",
        "    pooling_nb=int(genotype.shape[0]/pooling_size)\n",
        "\n",
        "    #sample info\n",
        "    sample=generate_id(genotype)\n",
        "    sample_counter=collections.Counter(sample)\n",
        "\n",
        "    # pooling + decoding + assess\n",
        "    mis=0\n",
        "    correct=0\n",
        "    wrong=0\n",
        "    for i in range(pooling_nb):\n",
        "        sample_gt=genotype[i*pooling_size:(i+1)*pooling_size]\n",
        "        sample_id=sample[i*pooling_size:(i+1)*pooling_size]\n",
        "        #start pooling\n",
        "        mypooling = SNPsPool(pool_shape,id_len,pools_nb,pools_size)\n",
        "        mypooling.set_subset(sample_id)\n",
        "        mypooling.set_line_values(sample_id,sample_gt)\n",
        "        decoded_gt=mypooling.decode_genotypes_gt(sample_gt)\n",
        "        #assess decoded_gt\n",
        "        acc=access_pool(sample_gt,decoded_gt)\n",
        "        acc_count=collections.Counter(acc)\n",
        "        mis=mis+acc_count['mis']\n",
        "        correct=correct+acc_count['correct']\n",
        "        wrong=wrong+acc_count['wrong']\n",
        "    return mis,correct,wrong,sample_counter['aa'],sample_counter['ar'],sample_counter['rr'],pooling_nb"
      ],
      "execution_count": 0,
      "outputs": []
    },
    {
      "cell_type": "code",
      "metadata": {
        "id": "bTdB2WvIefuR",
        "colab_type": "code",
        "colab": {}
      },
      "source": [
        "def average_test(n,genotype_raw,repeat):\n",
        "# input: the pool size n, a line of vcf genotype_raw, the repeat number\n",
        "# run the test_real func several times \n",
        "# return: the average number of xxxxx\n",
        "    mis=0\n",
        "    correct=0\n",
        "    wrong=0\n",
        "    effort_add=0\n",
        "    total=len(genotype_raw)\n",
        "    for i in range(repeat):\n",
        "        a=test_real(n,genotype_raw)\n",
        "#         mis=mis+a[0]\n",
        "        correct=correct+a[1]\n",
        "        wrong=wrong+a[2]\n",
        "        mis=mis+(total-a[1]-a[2]) #since there's samples unpooled\n",
        "        effort_add=effort_add+a[6]*n*2\n",
        "    effort=mis+effort_add\n",
        "    return mis/repeat,correct/repeat,wrong/repeat,effort/repeat"
      ],
      "execution_count": 0,
      "outputs": []
    },
    {
      "cell_type": "markdown",
      "metadata": {
        "id": "23ap2LsDefuT",
        "colab_type": "text"
      },
      "source": [
        "## test "
      ]
    },
    {
      "cell_type": "code",
      "metadata": {
        "id": "_DkX3YCHefuT",
        "colab_type": "code",
        "colab": {}
      },
      "source": [
        "n=4 #pool size\n",
        "repeat=1"
      ],
      "execution_count": 0,
      "outputs": []
    },
    {
      "cell_type": "code",
      "metadata": {
        "id": "Oa_I7xqfefuV",
        "colab_type": "code",
        "colab": {
          "base_uri": "https://localhost:8080/",
          "height": 35
        },
        "outputId": "0e84845f-496a-4d56-dda0-f66c948434b6"
      },
      "source": [
        "mis_arr=[]\n",
        "correct_arr=[]\n",
        "wrong_arr=[]\n",
        "effort_arr=[]\n",
        "t1=time.time()\n",
        "for variant in VCF(file_path):\n",
        "    genotype_raw = variant.genotypes\n",
        "    res=average_test(n,genotype_raw,repeat)\n",
        "    mis_arr=mis_arr+[int(res[0])] #mis\n",
        "    correct_arr=correct_arr+[int(res[1])]\n",
        "    wrong_arr=wrong_arr+[int(res[2])]\n",
        "    effort_arr=effort_arr+[int(res[3])]\n",
        "t2=time.time()-t1\n",
        "print(t2)\n"
      ],
      "execution_count": 15,
      "outputs": [
        {
          "output_type": "stream",
          "text": [
            "288.3724789619446\n"
          ],
          "name": "stdout"
        }
      ]
    },
    {
      "cell_type": "code",
      "metadata": {
        "id": "N-leF6X8efuW",
        "colab_type": "code",
        "outputId": "f3bf089a-0104-47d0-9808-dc3f80a0275b",
        "colab": {
          "base_uri": "https://localhost:8080/",
          "height": 353
        }
      },
      "source": [
        "#show the hist of mis and correct\n",
        "fig, (ax1,ax2) =plt.subplots(2, 1, sharex=True, sharey=True, figsize=(12,5))\n",
        "\n",
        "ax1.hist(mis_arr,bins=100,label=\"mis\")\n",
        "ax1.legend()\n",
        "\n",
        "ax2.hist(correct_arr,bins=100,label=\"correct\")\n",
        "ax2.legend()\n",
        "\n",
        "fig.text(0.5, 0.04, 'Count of mis/correct decode of a position', ha='center')\n",
        "fig.text(0.04, 0.5, 'Number of Position', va='center', rotation='vertical')\n"
      ],
      "execution_count": 16,
      "outputs": [
        {
          "output_type": "execute_result",
          "data": {
            "text/plain": [
              "Text(0.04, 0.5, 'Number of Position')"
            ]
          },
          "metadata": {
            "tags": []
          },
          "execution_count": 16
        },
        {
          "output_type": "display_data",
          "data": {
            "image/png": "[encoded data removed]",
            "text/plain": [
              "<Figure size 864x360 with 2 Axes>"
            ]
          },
          "metadata": {
            "tags": []
          }
        }
      ]
    },
    {
      "cell_type": "code",
      "metadata": {
        "id": "SxiPQxoxpbO7",
        "colab_type": "code",
        "colab": {}
      },
      "source": [
        "# mis1000_arr=[]\n",
        "# correct1000_arr=[]\n",
        "# wrong_arr1000=[]\n",
        "# effort1000_arr=[]\n",
        "# ori_arr=[]\n",
        "# control_arr=[]\n",
        "# for n in range(5):\n",
        "#   t1=time.time()\n",
        "#   n=n+1\n",
        "#   mis_arr=[]\n",
        "#   correct_arr=[]\n",
        "#   wrong_arr=[]\n",
        "#   effort_arr=[]\n",
        "#   for variant in VCF(file_path):\n",
        "#       genotype_raw = variant.genotypes\n",
        "#       # control_arr=control_arr+[int(i)]\n",
        "#       res=average_test(n,genotype_raw,repeat)\n",
        "#       mis_arr=mis_arr+[int(res[0])] #mis\n",
        "#       correct_arr=correct_arr+[int(res[1])]\n",
        "#       wrong_arr=wrong_arr+[int(res[2])]\n",
        "#       effort_arr=effort_arr+[int(res[3])]\n",
        "#   t2=time.time()-t1\n",
        "#   print(t2)\n",
        "\n",
        "#   # get the average of 1000 position\n",
        "#   mis1000=statistics.mean(mis_arr)\n",
        "#   correct1000=statistics.mean(correct_arr)\n",
        "#   wrong1000=statistics.mean(wrong_arr)\n",
        "#   effort1000=statistics.mean(effort_arr)\n",
        "\n",
        "# ori=len(genotype_raw)\n",
        "\n",
        "# mis1000_arr.append(mis1000)\n",
        "# correct1000_arr.append(correct1000)\n",
        "# wrong1000_arr.append(wrong1000)\n",
        "# effort1000_arr.append(effort1000)\n",
        "# ori_arr.append(ori)\n",
        "# control_arr.append(int(n))"
      ],
      "execution_count": 0,
      "outputs": []
    },
    {
      "cell_type": "code",
      "metadata": {
        "id": "sDG-DiPbpbUC",
        "colab_type": "code",
        "colab": {}
      },
      "source": [
        "# l1,=plt.plot(control_arr,mis1000_arr)\n",
        "# l2,=plt.plot(control_arr,correct1000_arr)\n",
        "# l3,=plt.plot(control_arr,wrong1000_arr)\n",
        "# l4,=plt.plot(control_arr,effort1000_arr)\n",
        "# l5,=plt.plot(control_arr,ori_effort)\n",
        "# plt.legend(handles=[l1,l2,l3,l4,l5],labels=['missing','correct','wrong','effort','ori_effort'],loc='best')\n",
        "# plt.title('Test with real data')\n",
        "# plt.xlabel('Pool size')\n",
        "# plt.ylabel('Results')\n",
        "# plt.show()"
      ],
      "execution_count": 0,
      "outputs": []
    },
    {
      "cell_type": "code",
      "metadata": {
        "id": "ApMoqrHgnqiV",
        "colab_type": "code",
        "colab": {}
      },
      "source": [
        ""
      ],
      "execution_count": 0,
      "outputs": []
    },
    {
      "cell_type": "code",
      "metadata": {
        "id": "PyP1-KQmpbYN",
        "colab_type": "code",
        "colab": {}
      },
      "source": [
        ""
      ],
      "execution_count": 0,
      "outputs": []
    },
    {
      "cell_type": "code",
      "metadata": {
        "id": "CjjQYN73pbcG",
        "colab_type": "code",
        "colab": {}
      },
      "source": [
        ""
      ],
      "execution_count": 0,
      "outputs": []
    }
  ]
}