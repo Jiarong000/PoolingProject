{
 "cells": [
  {
   "cell_type": "code",
   "execution_count": 1,
   "metadata": {},
   "outputs": [],
   "source": [
    "import subprocess\n",
    "import warnings\n",
    "import numpy as np\n",
    "import pandas as pd\n",
    "import time\n",
    "import math\n",
    "from scipy.stats import bernoulli as bn\n",
    "from cyvcf2 import VCF, Writer, Variant\n",
    "from typing import *\n",
    "import os\n",
    "import collections\n",
    "from random import seed\n",
    "from random import randint"
   ]
  },
  {
   "cell_type": "code",
   "execution_count": 2,
   "metadata": {},
   "outputs": [],
   "source": [
    "def split_pools(idv_id: List[str], pool_size: int, seed: object = None) -> Tuple[List[str], List[str]]:\n",
    "    \"\"\"\n",
    "    Assign samples to pools and output the remaning samples that could not be assigned (to few samples).\n",
    "    :param idv_id: sample's identiifer in the VCF-file.\n",
    "    :param pool_size: size of group expected (e.g. 16 if 4*4 pooling design)\n",
    "    :return: samples identifiers grouped and remaining samples\n",
    "    \"\"\"\n",
    "    '''\n",
    "    Caculate the number of pools based on sample(idv) number and pool size, randomly assign samples into these pools,\n",
    "    return pools in list form and return the not-assigned samples.\n",
    "    '''\n",
    "\n",
    "    idv_nb = len(idv_id)\n",
    "    nb_pool, left = divmod(idv_nb, pool_size)\n",
    "    print('Number of {}-sized pools to create, number of single samples remaining: '.format(pool_size),\n",
    "          nb_pool, left)\n",
    "    # Create random pools\n",
    "    if seed is not None:\n",
    "        np.random.seed(seed)\n",
    "    pools = np.random.choice(idv_id, size=(nb_pool, pool_size), replace=False)\n",
    "    left = np.isin(idv_id, pools.flatten())\n",
    "    singles = np.extract(~left, idv_id)\n",
    "    pools = pools.tolist()   #Return a copy of the array data as a (nested) Python list.\n",
    "\n",
    "    return pools, singles"
   ]
  },
  {
   "cell_type": "code",
   "execution_count": 3,
   "metadata": {},
   "outputs": [],
   "source": [
    "# sample_id_raw = list(['id' + str(i) for i in range(36)])\n",
    "# (pools_id,singles_id)=split_pools(sample_id_raw,16)\n",
    "# print('pools_id',pools_id)\n",
    "# print('singles_id',singles_id)"
   ]
  },
  {
   "cell_type": "code",
   "execution_count": 4,
   "metadata": {},
   "outputs": [],
   "source": [
    "class SNPsPool(np.ndarray):\n",
    "    \"\"\"\n",
    "    Simulates the different steps of a genotype pooling process.\n",
    "    Builds the pooling design matrix.\n",
    "    Encodes pooled genotypes per group.\n",
    "    Decodes encoded genotypes of the pools back to individual genotypes.\n",
    "    \"\"\"\n",
    "    def __new__(cls,\n",
    "                shape: tuple = (4, 4),\n",
    "                id_len: int = 8,\n",
    "                pools_nb: int = 8,\n",
    "                pools_size: int = 4) -> np.ndarray:\n",
    "        \"\"\"\n",
    "        Define the basic structure for a pool i.e.\n",
    "        a squared matrix to fill with the variables IDs/GT/GL.\n",
    "        :param shape: tuple, shape of the pool\n",
    "        :param id_len: max number of char of the variables IDs\n",
    "        :return: a matrix with dims 'shape', filled with str types\n",
    "        \"\"\"\n",
    "        cls.id_len = id_len\n",
    "        id = 'U' + str(cls.id_len)\n",
    "        cls.pools_nb = pools_nb\n",
    "        cls.pools_size = pools_size\n",
    "        return np.empty_like(super(SNPsPool, cls).__new__(cls, shape),\n",
    "                             dtype=id)\n",
    "\n",
    "    def design_matrix(self, random: bool = False) -> np.ndarray:\n",
    "        \"\"\"\n",
    "        That function is not intended to be called explicitly.\n",
    "        :param random: bool for dispatching idv randomly in the matrix?\n",
    "        :return: design matrix. Numpy array.\n",
    "        \"\"\"\n",
    "        pools_size: int = self.pools_size\n",
    "        design: np.ndarray = np.zeros((self.pools_nb, self.size), dtype=int)\n",
    "        if not random:\n",
    "            for i in range(int(self.pools_nb/self.ndim)):\n",
    "                j = i * pools_size\n",
    "                design[i, j:j+pools_size] = [1]*pools_size\n",
    "            for i in range(int(self.pools_nb/self.ndim), self.pools_nb):\n",
    "                j = i - pools_size\n",
    "                design[i,\n",
    "                       [j+k*pools_size for k in range(pools_size)]] = 1\n",
    "        return design\n",
    "\n",
    "    def set_subset(self, subset: np.ndarray) -> np.ndarray:\n",
    "        \"\"\"\n",
    "        Fills the pooling matrix according to the (default) design\n",
    "        and the input list of samples.\n",
    "        :param subset: 1D-nparray-like object with the variables IDs\n",
    "        :return: pooling matrix with samples' names.\n",
    "        \"\"\"\n",
    "        self.__setattr__('subset', subset)  # from split_pools\n",
    "        sub = self.__getattribute__('subset')\n",
    "        try:\n",
    "            for i in range(self.shape[0]):\n",
    "                self[i, :] = sub[:self.shape[1]]\n",
    "                sub = sub[self.shape[1]:]\n",
    "        except Exception as exc:\n",
    "            if len(self.subset) > self.size:\n",
    "                raise ValueError('The input you gave is too long') from exc\n",
    "            if len(self.subset) < self.size:\n",
    "                raise ValueError('The input you gave is too short') from exc\n",
    "            if type(self.subset) != np.ndarray and type(self.subset) != list:\n",
    "                raise TypeError('The input is not a 1D-array-like') from exc\n",
    "            if len(self.subset) > 0 and type(self.subset[0]) != str:\n",
    "                raise TypeError('The input does not contain str-type elements') from exc\n",
    "\n",
    "        return self\n",
    "\n",
    "    def get_subset(self) -> np.ndarray:\n",
    "        \"\"\"\n",
    "        Flatten the matrix of pooled samples identifiers.\n",
    "        :return: flattened array of samples identifiers or genotypes.\n",
    "        \"\"\"\n",
    "        ids = self.flatten()  # .reshape(1, self.size)\n",
    "        return ids\n",
    "\n",
    "    def pools_list(self) -> List[str]:\n",
    "        \"\"\"\n",
    "        Put samples into matrix structure, just for representation\n",
    "        :return: list of matrix-shaped samples identifiers\n",
    "        \"\"\"\n",
    "        design = self.design_matrix()\n",
    "        if np.where(self == '', False, True).all():\n",
    "            pools_: List[str] = []\n",
    "            for i in range(design.shape[0]):\n",
    "                cache = (design[i, :].reshape(self.shape) == False)  # cache = ~design[i, :].reshape(self.shape)\n",
    "                pool = np.ma.masked_array(self, mask=cache)\n",
    "                pools_.append(pool.compressed())\n",
    "            return pools_\n",
    "            # return just for being able to print the list if wished\n",
    "\n",
    "    def set_line_values(self, samples: list, variant: Variant,\n",
    "                        sig: object = None,\n",
    "                        params: List[float] = [], interp: object = None) -> None:\n",
    "        \"\"\"\n",
    "        Attach sigmoid-transformed alternate allele frequencies to the current variant.\n",
    "        :param samples: samples identifiers from the VCF-file\n",
    "        :param variant: variant identifier from the VCF-file\n",
    "        :param sig: sigmoid object computed from another set of pooled genotype data\n",
    "        :param params: parameters to pass for the sigmoid approximation\n",
    "        :param interp: interpolated sigmoid object for sigmoid approximation\n",
    "        :return: variant object with attributes attached, e.g. twisted alternate allele frequency\n",
    "        \"\"\"\n",
    "        self.__setattr__('variant', variant)  #variant.genotypes\n",
    "        self.__setattr__('samples', samples)\n",
    "\n",
    "\n",
    "    def get_call(self) -> np.ndarray:\n",
    "        \"\"\"\n",
    "        Get pooled samples genotypes for a given variant\n",
    "        :return:\n",
    "        \"\"\"\n",
    "        subs = self.get_subset()\n",
    "        idx = np.argwhere(np.isin(self.samples, subs))\n",
    "        self.__setattr__('call', np.asarray(self.variant)[idx])\n",
    "        return self.call\n",
    "\n",
    "    def pool_genotypes(self) -> np.ndarray:\n",
    "        \"\"\"\n",
    "        Computes genotypes of the different pools.\n",
    "        :return: array of {0,1} GLs for RR|RA|AA for each pool\n",
    "        \"\"\"\n",
    "        call: np.ndarray = self.get_call().reshape((1, self.size, 3)) #self.size=16\n",
    "        scores: np.ndarray = np.apply_along_axis(sum, axis=-1, arr=call[:, :, :-1]) #sum of allele1+allel2\n",
    "            \n",
    "        \n",
    "\n",
    "        if np.isin(call, -1).any():\n",
    "            x = np.ones((1, self.pools_nb, 1))\n",
    "            y = np.asarray([-1, -1, 0])\n",
    "            b = np.broadcast(x, y)\n",
    "            p = np.empty(b.shape)\n",
    "            p.flat = [u * v for (u, v) in b]\n",
    "        else:\n",
    "            pooled_gt = np.dot(self.design_matrix(),\n",
    "                               np.transpose(scores)).reshape((1, self.pools_nb, 1))\n",
    "            \n",
    "#             print('self.design_matrix()',self.design_matrix())#################################################\n",
    "#             print('np.transpose(scores)',np.transpose(scores))#################################################\n",
    "\n",
    "#             print('design dot individual scores',pooled_gt) ##############################################################\n",
    "            \n",
    "            \n",
    "            pooled_gt = np.broadcast_to(pooled_gt, (1, self.pools_nb, 3))\n",
    "            p = np.apply_along_axis(self.pooler_gt, axis=-1, arr=pooled_gt)\n",
    "\n",
    "        return p  # list of gt for the 8 pools from design matrix\n",
    "\n",
    "    def pooler_gt(self, a: np.ndarray) -> np.ndarray:\n",
    "        \"\"\"\n",
    "        Decodes pooled scores into individual GT.\n",
    "        :param a: score from matrix-vector pooling\n",
    "        :return: pool's true genotype with phase\n",
    "        \"\"\"\n",
    "        if np.all(a == 0):  # RR * RR * RR * RR\n",
    "            gt = [0, 0, 0]\n",
    "        elif np.all(a == self.pools_nb):  # AA * AA * AA * AA\n",
    "            gt = [1, 1, 0]\n",
    "        else:\n",
    "            gt = [1, 0, 0]\n",
    "        return gt\n",
    "\n",
    "    def decode_genotypes_gt(self, samples_gt: np.ndarray) -> np.ndarray:\n",
    "        \"\"\"\n",
    "        Recomputes true genotypes of samples with/without pooling/missing data\n",
    "        :param pooled_samples: Variant.genotypes (unpooled samples' true genotypes with phase)\n",
    "        :return: individual samples genotypes (true genotype with phase)\n",
    "        \"\"\"\n",
    "        pooled: np.ndarray = self.pool_genotypes()  # pooled[:, :, -1]: bool = phase of the genotype\n",
    "        scores: np.ndarray = np.apply_along_axis(sum, axis=-1, arr=pooled[:, :, :-1])\n",
    "        p = np.argwhere(np.isin(self.samples, self.subset))\n",
    "        \n",
    "#         print('self.samples',self.samples) ############################################\n",
    "#         print('self.subset',self.subset) ############################################\n",
    "#         print('index of self.samples which is also in self.subset',p) ############################################\n",
    "\n",
    "        count_alt: Callable[int, int] = lambda x: 1 if 1 in x else 0\n",
    "        count_ref: Callable[int, int] = lambda x: 1 if 0 in x else 0\n",
    "\n",
    "        alt_row: int = np.sum(np.apply_along_axis(count_alt,\n",
    "                                                  axis=-1,\n",
    "                                                  arr=pooled[:, :4, :-1]))\n",
    "        alt_col: int = np.sum(np.apply_along_axis(count_alt,\n",
    "                                                  axis=-1,\n",
    "                                                  arr=pooled[:, 4:, :-1]))\n",
    "        ref_row: int = np.sum(np.apply_along_axis(count_ref,\n",
    "                                                  axis=-1,\n",
    "                                                  arr=pooled[:, :4, :-1]))\n",
    "        ref_col: int = np.sum(np.apply_along_axis(count_ref,\n",
    "                                                  axis=-1,\n",
    "                                                  arr=pooled[:, 4:, :-1]))\n",
    "\n",
    "        nb_alt: int = alt_row + alt_col\n",
    "        nb_ref: int = ref_row + ref_col\n",
    "        \n",
    "#         print('alt_row',alt_row,'alt_col',alt_col,'ref_row',ref_row,'ref_col',ref_col,'nb_alt',nb_alt,'nb_ref',nb_ref)\n",
    "#         ########################################################################################\n",
    "            \n",
    "\n",
    "        if np.isin(pooled, -1).any():\n",
    "            x = np.ones((1, self.size, 1))\n",
    "            y = np.asarray([-1, -1, 0])\n",
    "            b = np.broadcast(x, y)\n",
    "            decoded_gt = np.empty(b.shape)\n",
    "            decoded_gt.flat = [u * v for (u, v) in b]\n",
    "\n",
    "        else:\n",
    "            encoded = np.dot(scores,\n",
    "                             self.design_matrix()).reshape(1, self.size, 1)\n",
    "            b = np.broadcast_to(encoded, (1, self.size, 3))\n",
    "            if nb_alt == 0:\n",
    "                decoded_gt = np.zeros_like(b)\n",
    "            elif nb_ref == 0:\n",
    "                aa = np.array([1, 1, 0])\n",
    "                decoded_gt = np.tile(aa, self.size).reshape((1, self.size, 3))\n",
    "            elif nb_alt == 2:\n",
    "                decoder: Callable = lambda x: [1, -1, 0] if np.all(x == 2) else [0, 0, 0]\n",
    "                # np.all() because of b.shape\n",
    "                decoded_gt = np.apply_along_axis(decoder, axis=-1, arr=b)\n",
    "            elif nb_ref == 2:  # symmetric case with ref allele in only 2 pools: individual is RR or RA\n",
    "                decoder: Callable = lambda x: [0, -1, 0] if np.all(x == 2) else [1, 1, 0]\n",
    "                decoded_gt = np.apply_along_axis(decoder, axis=-1, arr=b)\n",
    "            else:  # nb_alt > 2 and nb_alt < 8: # nb_alt = 2*n with n > 1\n",
    "                decoded_gt = np.apply_along_axis(self.multidecoder_gt, axis=-1, arr=b)\n",
    "                \n",
    "#         print('input-samples_gt',samples_gt)#######################################################\n",
    "\n",
    "        np.put_along_axis(samples_gt,\n",
    "                          np.broadcast_to(p, (self.size, 3)),\n",
    "                          decoded_gt.squeeze(),\n",
    "                          axis=0)\n",
    "\n",
    "        return samples_gt\n",
    "\n",
    "\n",
    "    @staticmethod\n",
    "    def multidecoder_gt(a: np.ndarray): ##deleted  -> prm.GLtype\n",
    "        \"\"\"\n",
    "        Decodes pooled scores into individual GT.\n",
    "        :param a: score\n",
    "        :return: true genotype with phase\n",
    "        \"\"\"\n",
    "        if np.all(a == 2):  # RA * RA\n",
    "            gt = [-1, -1, 0]\n",
    "        elif np.all(a == 1) or np.all(a == 0):  # RA * RR or RR * RR\n",
    "            gt = [0, 0, 0]\n",
    "        else:\n",
    "            gt = [1, 1, 0]\n",
    "        return gt\n",
    "\n",
    "    def __array_finalize__(self, obj: object) -> None:\n",
    "        \"\"\"\n",
    "        Constructor needed for subclassing NumPy arrays.\n",
    "        See online documentation.\n",
    "        :param obj:\n",
    "        :return:\n",
    "        \"\"\"\n",
    "        if obj is None: return\n",
    "        self.info = getattr(obj, 'info', None)"
   ]
  },
  {
   "cell_type": "code",
   "execution_count": 5,
   "metadata": {},
   "outputs": [],
   "source": [
    "# sample_id = list(['id' + str(i) for i in range(16)])   #generate id label of samples\n",
    "# sample_id"
   ]
  },
  {
   "cell_type": "code",
   "execution_count": 33,
   "metadata": {},
   "outputs": [],
   "source": [
    "def generate_by_gt(rr,aa,ra): #rr aa ra is the number of RR RA AA gt in a pool\n",
    "    RR=np.array([[0,0,1]]*rr)\n",
    "    RA=np.array([[1,0,1]]*ra)\n",
    "    AA=np.array([[1,1,1]]*aa)\n",
    "    if (rr==0 and ra==0 and aa!=0):\n",
    "        sample_gt = AA\n",
    "    elif (rr==0 and ra!=0 and aa==0):\n",
    "        sample_gt = RA\n",
    "    elif (rr!=0 and ra==0 and aa==0):\n",
    "        sample_gt = RR\n",
    "    elif (rr==0 and ra!=0 and aa!=0):\n",
    "        sample_gt = np.concatenate((RA, AA), axis=0)\n",
    "    elif (rr!=0 and ra!=0 and aa==0):\n",
    "        sample_gt = np.concatenate((RR, RA), axis=0)\n",
    "    elif (rr!=0 and ra==0 and aa!=0):\n",
    "        sample_gt = np.concatenate((RR, AA), axis=0)\n",
    "    elif (rr!=0 and ra!=0 and aa!=0):\n",
    "        sample_gt = np.concatenate((RR, RA, AA), axis=0)\n",
    "    else:\n",
    "        return [[]]\n",
    "\n",
    "    sample_gt = np.random.permutation(sample_gt)\n",
    "    \n",
    "    return sample_gt\n",
    "   \n",
    "# sample_gt=generate_by_gt(0,16,0)\n",
    "\n",
    "# sample_gt"
   ]
  },
  {
   "cell_type": "code",
   "execution_count": 7,
   "metadata": {},
   "outputs": [],
   "source": [
    "def generate_by_allele(r,a,pools_size):\n",
    "    R=[0]*r\n",
    "    A=[1]*a\n",
    "    sample_gt=np.array(R+A)\n",
    "    sample_gt=np.random.permutation(sample_gt)\n",
    "    sample_gt=np.reshape(sample_gt,(pools_size*pools_size,2))\n",
    "    sample_gt=np.insert(sample_gt, 2, 1, axis=1)\n",
    "    return sample_gt"
   ]
  },
  {
   "cell_type": "code",
   "execution_count": 8,
   "metadata": {},
   "outputs": [],
   "source": [
    "# # mypooling = SNPsPool()\n",
    "# # build am empty matrix for sample id\n",
    "# mypooling = SNPsPool((4,4),8,8,4) #shape,id_len,pools_nb,pools,size\n",
    "# mypooling"
   ]
  },
  {
   "cell_type": "code",
   "execution_count": 9,
   "metadata": {},
   "outputs": [],
   "source": [
    "# mypooling.set_subset(sample_id)\n",
    "# # mypooling.set_subset(pools_id[0])"
   ]
  },
  {
   "cell_type": "code",
   "execution_count": 10,
   "metadata": {},
   "outputs": [],
   "source": [
    "# mypooling.pools_list() #each pools contains which subject"
   ]
  },
  {
   "cell_type": "code",
   "execution_count": 11,
   "metadata": {},
   "outputs": [],
   "source": [
    "# mypooling.get_subset() #flatten self._new_"
   ]
  },
  {
   "cell_type": "code",
   "execution_count": 12,
   "metadata": {},
   "outputs": [],
   "source": [
    "# mypooling.design_matrix()    \n",
    "\n",
    "# # Matrix design\n",
    "# # There are 8 pools, \n",
    "# # pool 1 is the first row, it contains item 1 2 3 4\n",
    "# # pool 5 is the fifth row, it contains item 1 5 9 13"
   ]
  },
  {
   "cell_type": "code",
   "execution_count": 13,
   "metadata": {},
   "outputs": [],
   "source": [
    "# mypooling.set_line_values(sample_id,sample_gt)"
   ]
  },
  {
   "cell_type": "code",
   "execution_count": 14,
   "metadata": {},
   "outputs": [],
   "source": [
    "# mypooling.get_call()  #how samples looks like"
   ]
  },
  {
   "cell_type": "code",
   "execution_count": 15,
   "metadata": {},
   "outputs": [],
   "source": [
    "# mypooling.pool_genotypes()"
   ]
  },
  {
   "cell_type": "code",
   "execution_count": 16,
   "metadata": {},
   "outputs": [],
   "source": [
    "# mypooling.pooler_gt(np.ndarray([8,8,8])) \n",
    "# # used by mypooling.pool_genotypes()"
   ]
  },
  {
   "cell_type": "code",
   "execution_count": 17,
   "metadata": {},
   "outputs": [],
   "source": [
    "# # sample_gt0=np.full((16, 3), 9) #it just provide shape\n",
    "# decoded_gt=mypooling.decode_genotypes_gt(sample_gt)\n",
    "# decoded_gt"
   ]
  },
  {
   "cell_type": "code",
   "execution_count": 18,
   "metadata": {},
   "outputs": [],
   "source": [
    "# mypooling.multidecoder_gt(np.ndarray([8,8,8]))"
   ]
  },
  {
   "cell_type": "code",
   "execution_count": 19,
   "metadata": {},
   "outputs": [],
   "source": [
    "def access_pool(sample_gt,decoded_gt):\n",
    "    decoded_gt_nophase=np.delete(decoded_gt, -1, 1)\n",
    "    sample_gt_nophase=np.delete(sample_gt, -1, 1)\n",
    "    access_pool=[]\n",
    "    for idx in range(decoded_gt_nophase.shape[0]):\n",
    "        if np.isin(decoded_gt_nophase[idx],-1).any():\n",
    "            access_pool.append('mis')\n",
    "        elif sum(decoded_gt_nophase[idx])==sum(sample_gt_nophase[idx]):\n",
    "            access_pool.append('correct')\n",
    "        else:\n",
    "            access_pool.append('wrong')\n",
    "    return access_pool"
   ]
  },
  {
   "cell_type": "code",
   "execution_count": 20,
   "metadata": {},
   "outputs": [],
   "source": [
    "def access_pool_with_gt_info(sample_gt,decoded_gt):\n",
    "    decoded_gt_nophase=np.delete(decoded_gt, -1, 1)\n",
    "    sample_gt_nophase=np.delete(sample_gt, -1, 1)\n",
    "    access_pool=[]\n",
    "    for idx in range(decoded_gt_nophase.shape[0]):\n",
    "        if np.isin(decoded_gt_nophase[idx],-1).any():\n",
    "            access_pool.append('mis'+str(sample_gt_nophase[idx]))\n",
    "        elif sum(decoded_gt_nophase[idx])==sum(sample_gt_nophase[idx]):\n",
    "            access_pool.append('correct')\n",
    "        else:\n",
    "            access_pool.append('wrong')\n",
    "    return access_pool"
   ]
  },
  {
   "cell_type": "code",
   "execution_count": 21,
   "metadata": {},
   "outputs": [],
   "source": [
    "# acc=access_pool(sample_gt,decoded_gt)\n",
    "# collections.Counter(acc)"
   ]
  },
  {
   "cell_type": "code",
   "execution_count": 22,
   "metadata": {},
   "outputs": [],
   "source": [
    "def generate_id(sample_gt):\n",
    "    sample_id=[]\n",
    "    for gt in sample_gt:\n",
    "        is_AA=gt==np.array([1, 1, 1])\n",
    "        is_RR=gt==np.array([0, 0, 1])\n",
    "        is_AR=gt==np.array([1, 0, 1])\n",
    "        is_RA=gt==np.array([0, 1, 1])\n",
    "        if is_AA.all():\n",
    "            sample_id.append('aa')\n",
    "        elif is_RR.all():\n",
    "            sample_id.append('rr')\n",
    "        elif is_AR.all():\n",
    "            sample_id.append('ar')\n",
    "        elif is_RA.all():\n",
    "            sample_id.append('ar')\n",
    "        else:\n",
    "            sample_id.append('mis')\n",
    "    return sample_id"
   ]
  },
  {
   "cell_type": "code",
   "execution_count": 23,
   "metadata": {},
   "outputs": [],
   "source": [
    "# sample_id=generate_id(sample_gt)\n",
    "# sample_id"
   ]
  },
  {
   "cell_type": "markdown",
   "metadata": {},
   "source": [
    "## Whole Pipeline"
   ]
  },
  {
   "cell_type": "code",
   "execution_count": 24,
   "metadata": {},
   "outputs": [],
   "source": [
    "def run_pipeline(pool_shape,id_len,pools_nb,pools_size,sample_gt,sample_id):\n",
    "    sample_gt_fill9=np.full((pools_size*pools_size, 3), 9) #it just provide shape, fill with all '9'   \n",
    "    mypooling = SNPsPool(pool_shape,id_len,pools_nb,pools_size) #shape,id_len,pools_nb,pools_size\n",
    "    mypooling.set_subset(sample_id)\n",
    "    mypooling.set_line_values(sample_id,sample_gt)\n",
    "    mypooling.pool_genotypes()\n",
    "    decoded_gt=mypooling.decode_genotypes_gt(sample_gt_fill9)\n",
    "    acc=access_pool(sample_gt,decoded_gt)\n",
    "#     print(acc)\n",
    "    return collections.Counter(acc)"
   ]
  },
  {
   "cell_type": "code",
   "execution_count": 25,
   "metadata": {},
   "outputs": [],
   "source": [
    "def run_pipeline_access_with_gt(pool_shape,id_len,pools_nb,pools_size,sample_gt,sample_id):\n",
    "    sample_gt_fill9=np.full((pools_size*pools_size, 3), 9) #it just provide shape, fill with all '9'   \n",
    "    mypooling = SNPsPool(pool_shape,id_len,pools_nb,pools_size) #shape,id_len,pools_nb,pools_size\n",
    "    mypooling.set_subset(sample_id)\n",
    "    mypooling.set_line_values(sample_id,sample_gt)\n",
    "    mypooling.pool_genotypes()\n",
    "    decoded_gt=mypooling.decode_genotypes_gt(sample_gt_fill9)\n",
    "#     print(decoded_gt)\n",
    "    acc=access_pool_with_gt_info(sample_gt,decoded_gt)\n",
    "    return acc"
   ]
  },
  {
   "cell_type": "code",
   "execution_count": 26,
   "metadata": {},
   "outputs": [
    {
     "data": {
      "text/plain": [
       "['correct',\n",
       " 'correct',\n",
       " 'correct',\n",
       " 'mis[0 1]',\n",
       " 'correct',\n",
       " 'correct',\n",
       " 'correct',\n",
       " 'correct',\n",
       " 'correct',\n",
       " 'correct',\n",
       " 'correct',\n",
       " 'correct',\n",
       " 'correct',\n",
       " 'correct',\n",
       " 'correct',\n",
       " 'correct']"
      ]
     },
     "execution_count": 26,
     "metadata": {},
     "output_type": "execute_result"
    }
   ],
   "source": [
    "pool_shape=(4,4)\n",
    "id_len=8\n",
    "pools_nb=8\n",
    "pools_size=4\n",
    "# rr=4\n",
    "# aa=12\n",
    "# ra=0\n",
    "r=1\n",
    "a=32-r\n",
    "\n",
    "# sample_gt=generate_by_gt(rr,aa,ra)\n",
    "sample_gt=generate_by_allele(r,a,pools_size)\n",
    "sample_id=generate_id(sample_gt)\n",
    "# sample_id = list(['id' + str(i) for i in range(pools_size*pools_size)])\n",
    "\n",
    "result=run_pipeline_access_with_gt(pool_shape,id_len,pools_nb,pools_size,sample_gt,sample_id)\n",
    "result"
   ]
  },
  {
   "cell_type": "markdown",
   "metadata": {},
   "source": [
    "### Test with scale (4*4)"
   ]
  },
  {
   "cell_type": "code",
   "execution_count": 36,
   "metadata": {},
   "outputs": [],
   "source": [
    "# Test with allele propation 16:16\n",
    "mis_arr=[]\n",
    "correct_arr=[]\n",
    "wrong_arr=[]\n",
    "control_arr=[]\n",
    "control=0\n",
    "for i in range(32):\n",
    "    r=i+1\n",
    "    a=32-r\n",
    "    mis=0\n",
    "    correct=0\n",
    "    wrong=0\n",
    "    for i in range(200):\n",
    "        sample_gt=generate_by_allele(r,a,pools_size)  ##\n",
    "        sample_id=generate_id(sample_gt) #\n",
    "        result=run_pipeline(pool_shape,id_len,pools_nb,pools_size,sample_gt,sample_id)\n",
    "        mis=mis+result['mis']\n",
    "        correct=correct+result['correct']\n",
    "        wrong=wrong+result['wrong']\n",
    "    mis_arr=mis_arr+[mis]\n",
    "    correct_arr=correct_arr+[correct]\n",
    "    wrong_arr=wrong_arr+[wrong]\n",
    "    control=control+1\n",
    "    control_arr=control_arr+[control]\n",
    "# print(mis_arr,correct_arr,wrong_arr,control_arr)"
   ]
  },
  {
   "cell_type": "code",
   "execution_count": 37,
   "metadata": {},
   "outputs": [
    {
     "data": {
      "image/png": "[encoded data removed]",
      "text/plain": [
       "<Figure size 432x288 with 1 Axes>"
      ]
     },
     "metadata": {
      "needs_background": "light"
     },
     "output_type": "display_data"
    }
   ],
   "source": [
    "import matplotlib.pyplot as plt\n",
    "l1,=plt.plot(control_arr,mis_arr)\n",
    "l2,=plt.plot(control_arr,correct_arr)\n",
    "l3,=plt.plot(control_arr,wrong_arr)\n",
    "plt.legend(handles=[l1,l2,l3],labels=['missing','correct','wrong'],loc='best')\n",
    "plt.title('Change by allele propation')\n",
    "plt.xlabel('Number of R(0) allele')\n",
    "plt.ylabel('Counts')\n",
    "plt.show()"
   ]
  },
  {
   "cell_type": "code",
   "execution_count": 29,
   "metadata": {},
   "outputs": [],
   "source": [
    "# Test with homo:hetero\n",
    "# Since already known that A=R ratio will cause 'missing'\n",
    "# To emit that noise, set the ratio of A:R as 4:12\n",
    "mis_arr=[]\n",
    "correct_arr=[]\n",
    "wrong_arr=[]\n",
    "control_arr=[]\n",
    "control=0\n",
    "for i in range(3):\n",
    "    ra=(i)*2\n",
    "    rr=int(2-ra/2)\n",
    "    aa=int(14-ra/2)\n",
    "    mis=0\n",
    "    correct=0\n",
    "    wrong=0\n",
    "    for i in range(200):\n",
    "        sample_gt=generate_by_gt(rr,aa,ra) ##\n",
    "        sample_id=generate_id(sample_gt) #\n",
    "        result=run_pipeline(pool_shape,id_len,pools_nb,pools_size,sample_gt,sample_id)\n",
    "        mis=mis+result['mis']\n",
    "        correct=correct+result['correct']\n",
    "        wrong=wrong+result['wrong']\n",
    "    mis_arr=mis_arr+[mis]\n",
    "    correct_arr=correct_arr+[correct]\n",
    "    wrong_arr=wrong_arr+[wrong]\n",
    "    control_arr=control_arr+[control]\n",
    "    control=control+2"
   ]
  },
  {
   "cell_type": "code",
   "execution_count": 30,
   "metadata": {},
   "outputs": [
    {
     "data": {
      "image/png": "[encoded data removed]",
      "text/plain": [
       "<Figure size 432x288 with 1 Axes>"
      ]
     },
     "metadata": {
      "needs_background": "light"
     },
     "output_type": "display_data"
    }
   ],
   "source": [
    "import matplotlib.pyplot as plt\n",
    "l1,=plt.plot(control_arr,mis_arr)\n",
    "l2,=plt.plot(control_arr,correct_arr)\n",
    "l3,=plt.plot(control_arr,wrong_arr)\n",
    "plt.legend(handles=[l1,l2,l3],labels=['missing','correct','wrong'],loc='best')\n",
    "plt.title('hetero v.s. homo with A:R=4:12')\n",
    "plt.xlabel('Number of AR(1/0) in the pool')\n",
    "plt.ylabel('Counts')\n",
    "plt.show()"
   ]
  },
  {
   "cell_type": "code",
   "execution_count": 34,
   "metadata": {},
   "outputs": [],
   "source": [
    "# Test with all homo\n",
    "mis_arr=[]\n",
    "correct_arr=[]\n",
    "wrong_arr=[]\n",
    "control_arr=[]\n",
    "control=0\n",
    "for i in range(16):\n",
    "    ra=0\n",
    "    rr=i+1\n",
    "    aa=16-rr\n",
    "    mis=0\n",
    "    correct=0\n",
    "    wrong=0\n",
    "    for i in range(200):\n",
    "        sample_gt=generate_by_gt(rr,aa,ra) ##\n",
    "        sample_id=generate_id(sample_gt) #\n",
    "        result=run_pipeline(pool_shape,id_len,pools_nb,pools_size,sample_gt,sample_id)\n",
    "        mis=mis+result['mis']\n",
    "        correct=correct+result['correct']\n",
    "        wrong=wrong+result['wrong']\n",
    "    mis_arr=mis_arr+[mis]\n",
    "    correct_arr=correct_arr+[correct]\n",
    "    wrong_arr=wrong_arr+[wrong]\n",
    "    control_arr=control_arr+[control]\n",
    "    control=control+1"
   ]
  },
  {
   "cell_type": "code",
   "execution_count": 35,
   "metadata": {},
   "outputs": [
    {
     "data": {
      "image/png": "[encoded data removed]",
      "text/plain": [
       "<Figure size 432x288 with 1 Axes>"
      ]
     },
     "metadata": {
      "needs_background": "light"
     },
     "output_type": "display_data"
    }
   ],
   "source": [
    "import matplotlib.pyplot as plt\n",
    "l1,=plt.plot(control_arr,mis_arr)\n",
    "l2,=plt.plot(control_arr,correct_arr)\n",
    "l3,=plt.plot(control_arr,wrong_arr)\n",
    "plt.legend(handles=[l1,l2,l3],labels=['missing','correct','wrong'],loc='best')\n",
    "plt.title('Test with all homo')\n",
    "plt.xlabel('Number of RR(0/0) in the pool')\n",
    "plt.ylabel('Counts')\n",
    "plt.show()"
   ]
  },
  {
   "cell_type": "code",
   "execution_count": 31,
   "metadata": {},
   "outputs": [],
   "source": [
    "# Analize the porportion of missing values in each gt\n",
    "\n",
    "mis00_arr=[]\n",
    "mis11_arr=[]\n",
    "mis10_arr=[]\n",
    "sample10_arr=[]\n",
    "sample00_arr=[]\n",
    "sample11_arr=[]\n",
    "correct_arr=[]\n",
    "wrong_arr=[]\n",
    "control_arr=[]\n",
    "control=0\n",
    "\n",
    "for i in range(32):\n",
    "    all_result=[]\n",
    "    all_sample=[]\n",
    "    r=i+1\n",
    "    a=32-r\n",
    "    correct=0\n",
    "    wrong=0\n",
    "    for i in range(200):\n",
    "        sample_gt=generate_by_allele(r,a,pools_size)  ##\n",
    "        sample_id=generate_id(sample_gt) #\n",
    "        result=run_pipeline_access_with_gt(pool_shape,id_len,pools_nb,pools_size,sample_gt,sample_id)\n",
    "        all_result.append(result)\n",
    "        all_sample.append(sample_id)\n",
    "    all_result=np.array(all_result).flatten()\n",
    "    all_sample=np.array(all_sample).flatten()\n",
    "    result_count=collections.Counter(all_result)   #count all result about mis[0 1]/correct/wrong\n",
    "    sample_count=collections.Counter(all_sample)   #count all samples gt\n",
    "    mis10=result_count['mis[1 0]']+result_count['mis[0 1]']\n",
    "    mis00=result_count['mis[0 0]']\n",
    "    mis11=result_count['mis[1 1]']\n",
    "    sample00=sample_count['rr']\n",
    "    sample10=sample_count['ar']\n",
    "    sample11=sample_count['aa']\n",
    "    \n",
    "    sample00_arr=sample00_arr+[sample00]\n",
    "    sample11_arr=sample11_arr+[sample11]\n",
    "    sample10_arr=sample10_arr+[sample10]\n",
    "   \n",
    "    mis00_arr=mis00_arr+[mis00]\n",
    "    mis11_arr=mis11_arr+[mis11]\n",
    "    mis10_arr=mis10_arr+[mis10]\n",
    "    correct_arr=correct_arr+[correct]\n",
    "    wrong_arr=wrong_arr+[wrong]\n",
    "    control=control+1\n",
    "    control_arr=control_arr+[control]"
   ]
  },
  {
   "cell_type": "code",
   "execution_count": 32,
   "metadata": {},
   "outputs": [
    {
     "data": {
      "image/png": "[encoded data removed]",
      "text/plain": [
       "<Figure size 432x288 with 3 Axes>"
      ]
     },
     "metadata": {
      "needs_background": "light"
     },
     "output_type": "display_data"
    }
   ],
   "source": [
    "import matplotlib.pyplot as plt\n",
    "plt.subplot(3,1,1)\n",
    "l1,=plt.plot(control_arr,sample00_arr)\n",
    "l2,=plt.plot(control_arr,mis00_arr)\n",
    "plt.legend(handles=[l1,l2],labels=['sample','missing'],loc='best')\n",
    "plt.title('RR')\n",
    "plt.xlabel('Number of R(0) allele')\n",
    "plt.ylabel('Counts')\n",
    "\n",
    "plt.subplot(3,1,2)\n",
    "l1,=plt.plot(control_arr,sample10_arr)\n",
    "l2,=plt.plot(control_arr,mis10_arr)\n",
    "plt.legend(handles=[l1,l2],labels=['sample','missing'],loc='best')\n",
    "plt.title('RA')\n",
    "plt.xlabel('Number of R(0) allele')\n",
    "plt.ylabel('Counts')\n",
    "\n",
    "plt.subplot(3,1,3)\n",
    "l1,=plt.plot(control_arr,sample11_arr)\n",
    "l2,=plt.plot(control_arr,mis11_arr)\n",
    "plt.legend(handles=[l1,l2],labels=['sample','missing'],loc='best')\n",
    "plt.title('AA')\n",
    "plt.xlabel('Number of R(0) allele')\n",
    "plt.ylabel('Counts')\n",
    "\n",
    "plt.show()"
   ]
  },
  {
   "cell_type": "code",
   "execution_count": null,
   "metadata": {},
   "outputs": [],
   "source": []
  },
  {
   "cell_type": "code",
   "execution_count": null,
   "metadata": {},
   "outputs": [],
   "source": []
  },
  {
   "cell_type": "code",
   "execution_count": null,
   "metadata": {},
   "outputs": [],
   "source": []
  },
  {
   "cell_type": "code",
   "execution_count": null,
   "metadata": {},
   "outputs": [],
   "source": []
  },
  {
   "cell_type": "code",
   "execution_count": null,
   "metadata": {},
   "outputs": [],
   "source": []
  }
 ],
 "metadata": {
  "kernelspec": {
   "display_name": "Python 3",
   "language": "python",
   "name": "python3"
  },
  "language_info": {
   "codemirror_mode": {
    "name": "ipython",
    "version": 3
   },
   "file_extension": ".py",
   "mimetype": "text/x-python",
   "name": "python",
   "nbconvert_exporter": "python",
   "pygments_lexer": "ipython3",
   "version": "3.6.8"
  }
 },
 "nbformat": 4,
 "nbformat_minor": 2
}
